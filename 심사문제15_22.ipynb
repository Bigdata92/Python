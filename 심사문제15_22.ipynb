{
  "nbformat": 4,
  "nbformat_minor": 0,
  "metadata": {
    "colab": {
      "name": "심사문제15-22.ipynb",
      "provenance": [],
      "collapsed_sections": []
    },
    "kernelspec": {
      "name": "python3",
      "display_name": "Python 3"
    },
    "language_info": {
      "name": "python"
    }
  },
  "cells": [
    {
      "cell_type": "markdown",
      "metadata": {
        "id": "jAlo8GhJBPz3"
      },
      "source": [
        "## a+b+c = 1000 (a<b<c)\n",
        "## a*a + b*b = c*c"
      ]
    },
    {
      "cell_type": "code",
      "metadata": {
        "colab": {
          "base_uri": "https://localhost:8080/"
        },
        "id": "EmwrHsAABIQl",
        "outputId": "166c090b-f4cd-4b76-9e99-1b51d9100d4e"
      },
      "source": [
        "for a in range(333):\n",
        "  for b in range(a+1, 500):\n",
        "    c = 1000 -a -b\n",
        "    if c > b and (a*a + b*b == c*c):\n",
        "      print(a, b, c)"
      ],
      "execution_count": null,
      "outputs": [
        {
          "output_type": "stream",
          "text": [
            "200 375 425\n"
          ],
          "name": "stdout"
        }
      ]
    },
    {
      "cell_type": "markdown",
      "metadata": {
        "id": "PCf3n8pjQONw"
      },
      "source": [
        "## 본인의 생일을 1998 12 15 과 같이 년 월 일로 입력받아 오늘 날짜의 만 나이를 구하는 프로그램을 작성하시오.\n"
      ]
    },
    {
      "cell_type": "code",
      "metadata": {
        "colab": {
          "base_uri": "https://localhost:8080/"
        },
        "id": "JG3KEFRTQNQ1",
        "outputId": "3dd002a3-3e66-480f-efb4-8dfbd42d7153"
      },
      "source": [
        "from datetime import datetime\n",
        "\n",
        "birth_year, birth_month, birth_day = map(int, input().split(' '))\n",
        "if datetime.today().month >= birth_month and datetime.today().day >= birth_day:\n",
        "  age = datetime.today().year - birth_year\n",
        "else:\n",
        "  age = datetime.today().year - birth_year - 1\n",
        "print(age)"
      ],
      "execution_count": null,
      "outputs": [
        {
          "output_type": "stream",
          "text": [
            "1992 09 06\n",
            "28\n"
          ],
          "name": "stdout"
        }
      ]
    },
    {
      "cell_type": "markdown",
      "metadata": {
        "id": "TstTo-OIQqLf"
      },
      "source": [
        "## 디지털 시계에 하루동안(00:00-23:59) 3이 표시되는 시간을 초로 환산하면 총 몇 초(second) 일까요?- 디지털 시계는 하루동안 다음과 같이 시:분(00:00~23:59)으로 표시됨.\n"
      ]
    },
    {
      "cell_type": "code",
      "metadata": {
        "colab": {
          "base_uri": "https://localhost:8080/"
        },
        "id": "6suiGd8BQwJS",
        "outputId": "ef8b43a3-ecac-40d8-a6d0-94e57db3a731"
      },
      "source": [
        "sum_second = 0\n",
        "for i in range(24):\n",
        "  for j in range(60):\n",
        "    if str(3) in str(i):\n",
        "      sum_second += i * 3600 + j * 60\n",
        "    else:\n",
        "      if str(3) in str(j):\n",
        "        sum_second += j * 60\n",
        "print(sum_second)\n",
        "# ans = 29700"
      ],
      "execution_count": null,
      "outputs": [
        {
          "output_type": "stream",
          "text": [
            "9347400\n"
          ],
          "name": "stdout"
        }
      ]
    },
    {
      "cell_type": "markdown",
      "metadata": {
        "id": "0rbaG-yMHSue"
      },
      "source": [
        "## Q15"
      ]
    },
    {
      "cell_type": "code",
      "metadata": {
        "colab": {
          "base_uri": "https://localhost:8080/"
        },
        "id": "JZWRWoDNHZnl",
        "outputId": "eac35476-9a86-4a9c-ff92-a912d816ba5c"
      },
      "source": [
        "# 17, 7950, 12, 8350\n",
        "age = int(input())\n",
        "balance = 9000    # 교통카드 잔액\n",
        "if age >= 7 and age <= 12:\n",
        "  balance -= 650\n",
        "elif age >= 13 and age <= 18:\n",
        "  balance -= 1050\n",
        "elif age >= 19:\n",
        "  balance -= 1250\n",
        "\n",
        "print(balance)"
      ],
      "execution_count": null,
      "outputs": [
        {
          "output_type": "stream",
          "text": [
            "12\n",
            "8350\n"
          ],
          "name": "stdout"
        }
      ]
    },
    {
      "cell_type": "markdown",
      "metadata": {
        "id": "jF5edF1KHZay"
      },
      "source": [
        "## Q16"
      ]
    },
    {
      "cell_type": "code",
      "metadata": {
        "colab": {
          "base_uri": "https://localhost:8080/"
        },
        "id": "ysqAJJsjHZaz",
        "outputId": "3350c441-c6a4-48b9-93ad-139b3ce8ca96"
      },
      "source": [
        "num = int(input())\n",
        "for i in range(1, 10):\n",
        "  print(num, '*', i, '=', num * i, sep=' ')"
      ],
      "execution_count": null,
      "outputs": [
        {
          "output_type": "stream",
          "text": [
            "2\n",
            "2 * 1 = 2\n",
            "2 * 2 = 4\n",
            "2 * 3 = 6\n",
            "2 * 4 = 8\n",
            "2 * 5 = 10\n",
            "2 * 6 = 12\n",
            "2 * 7 = 14\n",
            "2 * 8 = 16\n",
            "2 * 9 = 18\n"
          ],
          "name": "stdout"
        }
      ]
    },
    {
      "cell_type": "markdown",
      "metadata": {
        "id": "OyHZchxOHZnk"
      },
      "source": [
        "## Q17"
      ]
    },
    {
      "cell_type": "code",
      "metadata": {
        "id": "_MMvl06aCUP6",
        "colab": {
          "base_uri": "https://localhost:8080/"
        },
        "outputId": "797a90a6-432d-48a7-f0d0-15be50eedfae"
      },
      "source": [
        "num = int(input())\n",
        "while(num):\n",
        "  num -= 1350\n",
        "  if num >= 0: \n",
        "    print(num)\n",
        "  else:\n",
        "    break"
      ],
      "execution_count": null,
      "outputs": [
        {
          "output_type": "stream",
          "text": [
            "13500\n",
            "12150\n",
            "10800\n",
            "9450\n",
            "8100\n",
            "6750\n",
            "5400\n",
            "4050\n",
            "2700\n",
            "1350\n",
            "0\n"
          ],
          "name": "stdout"
        }
      ]
    },
    {
      "cell_type": "markdown",
      "metadata": {
        "id": "5iBq0wQiHaN0"
      },
      "source": [
        "## Q18"
      ]
    },
    {
      "cell_type": "code",
      "metadata": {
        "colab": {
          "base_uri": "https://localhost:8080/"
        },
        "id": "ra1hJOy0HaN1",
        "outputId": "a4303f4c-22f0-4c0e-b6bc-d71f6b9b0bf8"
      },
      "source": [
        "start, stop = map(int, input().split())\n",
        " \n",
        "i = start\n",
        " \n",
        "while True:\n",
        "    if i % 10 == 3:\n",
        "        i += 1\n",
        "        continue\n",
        "    if i > stop:\n",
        "        break\n",
        "    print(i, end=' ')\n",
        "    i += 1"
      ],
      "execution_count": null,
      "outputs": [
        {
          "output_type": "stream",
          "text": [
            "1 20\n",
            "1 2 4 5 6 7 8 9 10 11 12 14 15 16 17 18 19 20 "
          ],
          "name": "stdout"
        }
      ]
    },
    {
      "cell_type": "markdown",
      "metadata": {
        "id": "vEno8VqbHaZ4"
      },
      "source": [
        "## Q19"
      ]
    },
    {
      "cell_type": "code",
      "metadata": {
        "colab": {
          "base_uri": "https://localhost:8080/"
        },
        "id": "yKLRsP6bHaZ4",
        "outputId": "ac713e2d-a4ed-4b26-f7b2-ef85ddb59029"
      },
      "source": [
        "height = int(input())\n",
        "\n",
        "for i in range(height):\n",
        "  print(' ' * (height-1-i), '*' * (2*i + 1), sep='')"
      ],
      "execution_count": null,
      "outputs": [
        {
          "output_type": "stream",
          "text": [
            "5\n",
            "    *\n",
            "   ***\n",
            "  *****\n",
            " *******\n",
            "*********\n"
          ],
          "name": "stdout"
        }
      ]
    },
    {
      "cell_type": "markdown",
      "metadata": {
        "id": "RU2wTNbXHahH"
      },
      "source": [
        "## Q20"
      ]
    },
    {
      "cell_type": "code",
      "metadata": {
        "colab": {
          "base_uri": "https://localhost:8080/"
        },
        "id": "LiZeVcXLHahI",
        "outputId": "1e5d0e53-46ce-44c9-a689-b8bd51c3a367"
      },
      "source": [
        "int1, int2 = map(int, input().split())\n",
        "for i in range(int1, int2+1):\n",
        "  if i % 5 == 0 and i % 7 == 0:\n",
        "    print('FizzBuzz')\n",
        "  elif i % 7 == 0:\n",
        "    print('Buzz')\n",
        "  elif i % 5 == 0:\n",
        "    print('Fizz')\n",
        "  else:\n",
        "    print(i)  \n",
        "    \n",
        "  "
      ],
      "execution_count": null,
      "outputs": [
        {
          "output_type": "stream",
          "text": [
            "35 40\n",
            "FizzBuzz\n",
            "36\n",
            "37\n",
            "38\n",
            "39\n",
            "Fizz\n"
          ],
          "name": "stdout"
        }
      ]
    },
    {
      "cell_type": "markdown",
      "metadata": {
        "id": "wzBwmm0ZHaqd"
      },
      "source": [
        "## Q22"
      ]
    },
    {
      "cell_type": "code",
      "metadata": {
        "colab": {
          "base_uri": "https://localhost:8080/"
        },
        "id": "rjjjkpumHaqe",
        "outputId": "55a75838-4839-4ead-86e2-4e1fbf87a88a"
      },
      "source": [
        "int1, int2 = map(int, input().split())\n",
        "int_list = [2 ** i for i in range(int1, int2+1)]\n",
        "del(int_list[1])\n",
        "del(int_list[-2])\n",
        "print(int_list)\n",
        "# for i in range(int1, int2+1):\n",
        "#   [2 ** i for ]\n",
        "#   num_list.append(val)\n",
        "#   val *= 2\n",
        "# print(num_list)"
      ],
      "execution_count": null,
      "outputs": [
        {
          "output_type": "stream",
          "text": [
            "1 10\n",
            "[2, 8, 16, 32, 64, 128, 256, 1024]\n"
          ],
          "name": "stdout"
        }
      ]
    },
    {
      "cell_type": "code",
      "metadata": {
        "id": "lEmXdMehu6ng"
      },
      "source": [
        ""
      ],
      "execution_count": null,
      "outputs": []
    }
  ]
}