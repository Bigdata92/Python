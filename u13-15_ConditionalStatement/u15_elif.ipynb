{
  "nbformat": 4,
  "nbformat_minor": 0,
  "metadata": {
    "colab": {
      "name": "u15_elif.ipynb",
      "provenance": [],
      "collapsed_sections": []
    },
    "kernelspec": {
      "name": "python3",
      "display_name": "Python 3"
    },
    "language_info": {
      "name": "python"
    }
  },
  "cells": [
    {
      "cell_type": "markdown",
      "metadata": {
        "id": "3XC_u2hLn0Xp"
      },
      "source": [
        "# Unit 15. elif를 사용하여 여러 방향으로 분기하기"
      ]
    },
    {
      "cell_type": "code",
      "metadata": {
        "colab": {
          "base_uri": "https://localhost:8080/"
        },
        "id": "Ng1Y0vOBm30t",
        "outputId": "0d0b3dc9-43d4-4458-cf31-9e7e0913561f"
      },
      "source": [
        "x = 20\n",
        "if x == 10:\n",
        "  print('It is 10.')\n",
        "elif x == 20:\n",
        "  print('It is 20.')\n",
        "else:\n",
        "  print('It is not 10 or 20.')"
      ],
      "execution_count": 1,
      "outputs": [
        {
          "output_type": "stream",
          "text": [
            "It is 20.\n"
          ],
          "name": "stdout"
        }
      ]
    },
    {
      "cell_type": "code",
      "metadata": {
        "colab": {
          "base_uri": "https://localhost:8080/"
        },
        "id": "0TFY-bO7okD0",
        "outputId": "e103affe-7b2a-4679-e22c-177160948b83"
      },
      "source": [
        "# 숫자를 입력으로 받음, 3의 배수면 Fizz, 5의 배수면 Buzz, 15의 배수면 FizzBuzz, \n",
        "num = int(input())\n",
        "if num % 3 == 0 and num % 15 == 0:\n",
        "  print('FizzBuzz')\n",
        "elif num % 5 == 0:\n",
        "  print('Buzz')\n",
        "elif num % 3 == 0:\n",
        "  print('Fizz')\n",
        "else:\n",
        "  print(num)"
      ],
      "execution_count": 10,
      "outputs": [
        {
          "output_type": "stream",
          "text": [
            "14\n",
            "14\n"
          ],
          "name": "stdout"
        }
      ]
    },
    {
      "cell_type": "code",
      "metadata": {
        "colab": {
          "base_uri": "https://localhost:8080/"
        },
        "id": "HC4unxwdpOhX",
        "outputId": "383fc4e8-82f0-4143-8a4a-7b9a8ac1a3f4"
      },
      "source": [
        "print('Fizz'*(num % 3 == 0) + 'Buzz'*(num % 5 == 0) or num)"
      ],
      "execution_count": 13,
      "outputs": [
        {
          "output_type": "stream",
          "text": [
            "14\n"
          ],
          "name": "stdout"
        }
      ]
    },
    {
      "cell_type": "code",
      "metadata": {
        "id": "2EwuQxOFrB0m"
      },
      "source": [
        ""
      ],
      "execution_count": null,
      "outputs": []
    }
  ]
}