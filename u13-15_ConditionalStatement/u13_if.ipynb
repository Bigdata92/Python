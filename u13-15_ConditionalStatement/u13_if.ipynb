{
  "nbformat": 4,
  "nbformat_minor": 0,
  "metadata": {
    "colab": {
      "name": "u13_if.ipynb",
      "provenance": [],
      "collapsed_sections": []
    },
    "kernelspec": {
      "name": "python3",
      "display_name": "Python 3"
    },
    "language_info": {
      "name": "python"
    }
  },
  "cells": [
    {
      "cell_type": "markdown",
      "metadata": {
        "id": "5YZJLHciguIb"
      },
      "source": [
        "# Unit 13. if conditional statement"
      ]
    },
    {
      "cell_type": "markdown",
      "metadata": {
        "id": "52iZwyH8hgxx"
      },
      "source": [
        "## 13.1 if conditional statement"
      ]
    },
    {
      "cell_type": "code",
      "metadata": {
        "colab": {
          "base_uri": "https://localhost:8080/"
        },
        "id": "d-LrWPCMgqt-",
        "outputId": "b9a37b56-f7bc-4731-8c2d-9445378916b9"
      },
      "source": [
        "x = 10\n",
        "if x == 10:\n",
        "  print('It is 10.')"
      ],
      "execution_count": 2,
      "outputs": [
        {
          "output_type": "stream",
          "text": [
            "It is 10.\n"
          ],
          "name": "stdout"
        }
      ]
    },
    {
      "cell_type": "code",
      "metadata": {
        "colab": {
          "base_uri": "https://localhost:8080/"
        },
        "id": "Xm0MR70khvEh",
        "outputId": "c5cd34e3-ece4-4b07-b014-8e78181bbac1"
      },
      "source": [
        "x = 9\n",
        "if x:   # if x is not 0, then true\n",
        "  print('It is 10.')"
      ],
      "execution_count": 4,
      "outputs": [
        {
          "output_type": "stream",
          "text": [
            "It is 10.\n"
          ],
          "name": "stdout"
        }
      ]
    },
    {
      "cell_type": "code",
      "metadata": {
        "id": "g9IQfTokiT61"
      },
      "source": [
        "x = 10\n",
        "if x == 10:\n",
        "  pass # 나중에 작성할거니 일단 pass 해라 "
      ],
      "execution_count": 5,
      "outputs": []
    },
    {
      "cell_type": "markdown",
      "metadata": {
        "id": "jmQQOJnJiyQY"
      },
      "source": [
        "## 13.2 indentation "
      ]
    },
    {
      "cell_type": "code",
      "metadata": {
        "colab": {
          "base_uri": "https://localhost:8080/"
        },
        "id": "UBoNpMYEivwB",
        "outputId": "3edd1722-cbca-47c9-d1fc-aed9056d8356"
      },
      "source": [
        "x = 9\n",
        "\n",
        "if x == 10:\n",
        "  print('x값은')\n",
        "  print('10입니다.')\n",
        "print('언제나 출력됩니다.')"
      ],
      "execution_count": 8,
      "outputs": [
        {
          "output_type": "stream",
          "text": [
            "언제나 출력됩니다.\n"
          ],
          "name": "stdout"
        }
      ]
    },
    {
      "cell_type": "markdown",
      "metadata": {
        "id": "mDPX5OsEj5zM"
      },
      "source": [
        "## 13.3 nested if conditional statements"
      ]
    },
    {
      "cell_type": "code",
      "metadata": {
        "colab": {
          "base_uri": "https://localhost:8080/"
        },
        "id": "Nq8KKWcXjKW5",
        "outputId": "ddbdb548-58c9-4e32-97a2-2af281adb705"
      },
      "source": [
        "x = 15\n",
        "if x > 10:\n",
        "  print('10보다 큰 숫자입니다.')\n",
        "  if x == 15:\n",
        "    print('15입니다.')\n",
        "  if x == 20:\n",
        "    print('20입니다.')"
      ],
      "execution_count": 9,
      "outputs": [
        {
          "output_type": "stream",
          "text": [
            "10보다 큰 숫자입니다.\n",
            "15입니다.\n"
          ],
          "name": "stdout"
        }
      ]
    },
    {
      "cell_type": "code",
      "metadata": {
        "colab": {
          "base_uri": "https://localhost:8080/"
        },
        "id": "QWOmp4nNkue4",
        "outputId": "54d5c302-5b7d-41ca-a8e0-0b04695ec539"
      },
      "source": [
        "x = int(input('정수를 입력하세요> '))\n",
        "if x > 10:\n",
        "  print('10보다 큰 숫자입니다.')\n",
        "  if x == 15:\n",
        "    print('15입니다.')\n",
        "  if x == 20:\n",
        "    print('20입니다.')"
      ],
      "execution_count": 10,
      "outputs": [
        {
          "output_type": "stream",
          "text": [
            "정수를 입력하세요> 16\n",
            "10보다 큰 숫자입니다.\n"
          ],
          "name": "stdout"
        }
      ]
    }
  ]
}