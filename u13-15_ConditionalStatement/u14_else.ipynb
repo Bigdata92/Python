{
  "nbformat": 4,
  "nbformat_minor": 0,
  "metadata": {
    "colab": {
      "name": "u14_else.ipynb",
      "provenance": []
    },
    "kernelspec": {
      "name": "python3",
      "display_name": "Python 3"
    },
    "language_info": {
      "name": "python"
    }
  },
  "cells": [
    {
      "cell_type": "markdown",
      "metadata": {
        "id": "HyklXLxBl4Cs"
      },
      "source": [
        "# Unit 14. else"
      ]
    },
    {
      "cell_type": "code",
      "metadata": {
        "colab": {
          "base_uri": "https://localhost:8080/"
        },
        "id": "SlWoZXsxl1ui",
        "outputId": "6ad3e38a-da37-413d-ea75-56dc5a28021e"
      },
      "source": [
        "x = 5\n",
        "if x == 10:\n",
        "  print('It is 10.')\n",
        "else:\n",
        "  print('It is not 10.')"
      ],
      "execution_count": 1,
      "outputs": [
        {
          "output_type": "stream",
          "text": [
            "It is not 10.\n"
          ],
          "name": "stdout"
        }
      ]
    },
    {
      "cell_type": "markdown",
      "metadata": {
        "id": "S6EgxAGsm0ke"
      },
      "source": [
        "### 3항 연산자(ternary operator)\n",
        "- Java, JS : a = (조건) ? 참일때의 값 : 거짓일때의 값\n",
        "- Python : a = 참일때의 값 if 조건 else 거짓일때의 값"
      ]
    },
    {
      "cell_type": "code",
      "metadata": {
        "colab": {
          "base_uri": "https://localhost:8080/",
          "height": 35
        },
        "id": "Pk_L2mJMmdcI",
        "outputId": "a8f305eb-6ec2-4981-e40b-ad12087128b6"
      },
      "source": [
        "x = 1\n",
        "if x % 2 == 0:\n",
        "  y = 'even'\n",
        "else:\n",
        "  y = 'odd'\n",
        "y"
      ],
      "execution_count": 2,
      "outputs": [
        {
          "output_type": "execute_result",
          "data": {
            "application/vnd.google.colaboratory.intrinsic+json": {
              "type": "string"
            },
            "text/plain": [
              "'odd'"
            ]
          },
          "metadata": {
            "tags": []
          },
          "execution_count": 2
        }
      ]
    },
    {
      "cell_type": "code",
      "metadata": {
        "colab": {
          "base_uri": "https://localhost:8080/",
          "height": 35
        },
        "id": "ZQHP-UEgnAD5",
        "outputId": "a8e01485-3fe4-48ab-ab84-0028f1d24dbc"
      },
      "source": [
        "y = 'even' if x%2 == 0 else 'odd'\n",
        "y"
      ],
      "execution_count": 4,
      "outputs": [
        {
          "output_type": "execute_result",
          "data": {
            "application/vnd.google.colaboratory.intrinsic+json": {
              "type": "string"
            },
            "text/plain": [
              "'odd'"
            ]
          },
          "metadata": {
            "tags": []
          },
          "execution_count": 4
        }
      ]
    },
    {
      "cell_type": "code",
      "metadata": {
        "colab": {
          "base_uri": "https://localhost:8080/",
          "height": 53
        },
        "id": "0fMP_yP8nO2W",
        "outputId": "e699e4c7-6c69-4308-f8ae-eb7be6c4c1a9"
      },
      "source": [
        "# 90점 이상이면 'A', 80~89 : 'B', 70~79 : 'C', 60~69 : 'D', ~ 59 : F\n",
        "score = int(input('점수 입력> '))\n",
        "if score >= 90:\n",
        "  grade ='A'\n",
        "else:\n",
        "  if score >= 80:\n",
        "    grade = 'B'\n",
        "  else:\n",
        "    if score >= 70:\n",
        "      grade = 'C'\n",
        "    else:\n",
        "      if score >= 60:\n",
        "        grade = 'D'\n",
        "      else:\n",
        "        if score <= 59:\n",
        "          grade = 'F'\n",
        "grade"
      ],
      "execution_count": 14,
      "outputs": [
        {
          "output_type": "stream",
          "text": [
            "점수 입력> 89\n"
          ],
          "name": "stdout"
        },
        {
          "output_type": "execute_result",
          "data": {
            "application/vnd.google.colaboratory.intrinsic+json": {
              "type": "string"
            },
            "text/plain": [
              "'B'"
            ]
          },
          "metadata": {
            "tags": []
          },
          "execution_count": 14
        }
      ]
    },
    {
      "cell_type": "code",
      "metadata": {
        "colab": {
          "base_uri": "https://localhost:8080/",
          "height": 35
        },
        "id": "F0XX6pTtpL2E",
        "outputId": "8fab78c1-c66d-4c67-a278-383823a53da5"
      },
      "source": [
        "grade = 'A' if score >= 90 else \\\n",
        "        'B' if score >= 80 else \\\n",
        "        'C' if score >= 70 else \\\n",
        "        'D' if score >= 60 else F\n",
        "grade"
      ],
      "execution_count": 16,
      "outputs": [
        {
          "output_type": "execute_result",
          "data": {
            "application/vnd.google.colaboratory.intrinsic+json": {
              "type": "string"
            },
            "text/plain": [
              "'B'"
            ]
          },
          "metadata": {
            "tags": []
          },
          "execution_count": 16
        }
      ]
    },
    {
      "cell_type": "markdown",
      "metadata": {
        "id": "Cx-LYjZouhe0"
      },
      "source": [
        "### Logical operators in conditional expressions"
      ]
    },
    {
      "cell_type": "code",
      "metadata": {
        "colab": {
          "base_uri": "https://localhost:8080/"
        },
        "id": "QQarigdVqvhT",
        "outputId": "c4729543-5ef5-4412-eff4-39cb89584f37"
      },
      "source": [
        "x = 5\n",
        "if x > 0 and x < 10:\n",
        "  print('10보다 작은 양의 정수입니다.')"
      ],
      "execution_count": 17,
      "outputs": [
        {
          "output_type": "stream",
          "text": [
            "10보다 작은 양의 정수입니다.\n"
          ],
          "name": "stdout"
        }
      ]
    },
    {
      "cell_type": "code",
      "metadata": {
        "id": "MNW22HGlu5Ho"
      },
      "source": [
        "if 0 < x < 10:\n",
        "  print('10보다 작은 양의 정수입니다.')"
      ],
      "execution_count": null,
      "outputs": []
    }
  ]
}