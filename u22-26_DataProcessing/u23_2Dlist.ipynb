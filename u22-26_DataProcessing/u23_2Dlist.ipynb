{
  "nbformat": 4,
  "nbformat_minor": 0,
  "metadata": {
    "colab": {
      "name": "u23_2Dlist.ipynb",
      "provenance": []
    },
    "kernelspec": {
      "name": "python3",
      "display_name": "Python 3"
    },
    "language_info": {
      "name": "python"
    }
  },
  "cells": [
    {
      "cell_type": "markdown",
      "metadata": {
        "id": "NZKuOU9L0oRS"
      },
      "source": [
        "# Unit 23. 2D list"
      ]
    },
    {
      "cell_type": "markdown",
      "metadata": {
        "id": "vsYFIoLd0uY7"
      },
      "source": [
        "## 23.1 making and indexing 2D list"
      ]
    },
    {
      "cell_type": "code",
      "metadata": {
        "colab": {
          "base_uri": "https://localhost:8080/"
        },
        "id": "NivF8xiI0aZF",
        "outputId": "cae29c87-6e67-4d6d-83e5-ba43265ef5f7"
      },
      "source": [
        "a = [[10, 20], [30, 40], [50, 60]]\n",
        "a"
      ],
      "execution_count": 1,
      "outputs": [
        {
          "output_type": "execute_result",
          "data": {
            "text/plain": [
              "[[10, 20], [30, 40], [50, 60]]"
            ]
          },
          "metadata": {
            "tags": []
          },
          "execution_count": 1
        }
      ]
    },
    {
      "cell_type": "code",
      "metadata": {
        "colab": {
          "base_uri": "https://localhost:8080/"
        },
        "id": "q-RZA-IW0sI3",
        "outputId": "527d176c-b265-434e-9bd8-c4046f49499b"
      },
      "source": [
        "# a[row index][col index]\n",
        "a[1][0]"
      ],
      "execution_count": 2,
      "outputs": [
        {
          "output_type": "execute_result",
          "data": {
            "text/plain": [
              "30"
            ]
          },
          "metadata": {
            "tags": []
          },
          "execution_count": 2
        }
      ]
    },
    {
      "cell_type": "code",
      "metadata": {
        "colab": {
          "base_uri": "https://localhost:8080/"
        },
        "id": "EOyl_orX1S4i",
        "outputId": "8ef94f5e-8d5e-4193-eaae-19d970679ff1"
      },
      "source": [
        "a[1][-1] = 100\n",
        "a"
      ],
      "execution_count": 4,
      "outputs": [
        {
          "output_type": "execute_result",
          "data": {
            "text/plain": [
              "[[10, 20], [30, 100], [50, 60]]"
            ]
          },
          "metadata": {
            "tags": []
          },
          "execution_count": 4
        }
      ]
    },
    {
      "cell_type": "code",
      "metadata": {
        "colab": {
          "base_uri": "https://localhost:8080/"
        },
        "id": "xvCD5DFD1awa",
        "outputId": "c36b6613-b162-4546-a40b-21ed30e0f2ac"
      },
      "source": [
        "import numpy as np \n",
        "b = np.arange(16).reshape(4,4)\n",
        "b"
      ],
      "execution_count": 13,
      "outputs": [
        {
          "output_type": "execute_result",
          "data": {
            "text/plain": [
              "array([[ 0,  1,  2,  3],\n",
              "       [ 4,  5,  6,  7],\n",
              "       [ 8,  9, 10, 11],\n",
              "       [12, 13, 14, 15]])"
            ]
          },
          "metadata": {
            "tags": []
          },
          "execution_count": 13
        }
      ]
    },
    {
      "cell_type": "code",
      "metadata": {
        "colab": {
          "base_uri": "https://localhost:8080/"
        },
        "id": "Tk5dTwfo1v3t",
        "outputId": "25454b1a-fe70-4573-b982-4ee1dee2e510"
      },
      "source": [
        "b[1,1] # more easy"
      ],
      "execution_count": 6,
      "outputs": [
        {
          "output_type": "execute_result",
          "data": {
            "text/plain": [
              "5"
            ]
          },
          "metadata": {
            "tags": []
          },
          "execution_count": 6
        }
      ]
    },
    {
      "cell_type": "code",
      "metadata": {
        "colab": {
          "base_uri": "https://localhost:8080/"
        },
        "id": "KDKiFs6P14nf",
        "outputId": "6e6fd73c-7af0-44c8-b992-7a35b7a29c4a"
      },
      "source": [
        "b[1:-1,1:-1] # more easy so 2D list is not used and numpy and df is more used "
      ],
      "execution_count": 8,
      "outputs": [
        {
          "output_type": "execute_result",
          "data": {
            "text/plain": [
              "array([[ 5,  6],\n",
              "       [ 9, 10]])"
            ]
          },
          "metadata": {
            "tags": []
          },
          "execution_count": 8
        }
      ]
    },
    {
      "cell_type": "code",
      "metadata": {
        "colab": {
          "base_uri": "https://localhost:8080/"
        },
        "id": "8ywhiRpU2AaF",
        "outputId": "10f7265d-5298-45fa-c245-a3b9d9627b7d"
      },
      "source": [
        "b[1:3,1:3]"
      ],
      "execution_count": 10,
      "outputs": [
        {
          "output_type": "execute_result",
          "data": {
            "text/plain": [
              "array([[ 5,  6],\n",
              "       [ 9, 10]])"
            ]
          },
          "metadata": {
            "tags": []
          },
          "execution_count": 10
        }
      ]
    },
    {
      "cell_type": "code",
      "metadata": {
        "colab": {
          "base_uri": "https://localhost:8080/"
        },
        "id": "0GWxz4yn2Q4w",
        "outputId": "1dd8c4ac-6053-42b2-b876-1605ad3b9f02"
      },
      "source": [
        "a = []\n",
        "for i in range(4):\n",
        "  t = []\n",
        "  for j in range(4):\n",
        "    t.append(4*i + j)\n",
        "  a.append(t)\n",
        "a"
      ],
      "execution_count": 15,
      "outputs": [
        {
          "output_type": "execute_result",
          "data": {
            "text/plain": [
              "[[0, 1, 2, 3], [4, 5, 6, 7], [8, 9, 10, 11], [12, 13, 14, 15]]"
            ]
          },
          "metadata": {
            "tags": []
          },
          "execution_count": 15
        }
      ]
    },
    {
      "cell_type": "code",
      "metadata": {
        "colab": {
          "base_uri": "https://localhost:8080/"
        },
        "id": "MARsBARe4i92",
        "outputId": "89a59ea5-d667-4cf0-bf82-e8d074e6a6d9"
      },
      "source": [
        "[[i*4+k for k in range(4)] for i in range(4)]"
      ],
      "execution_count": 20,
      "outputs": [
        {
          "output_type": "execute_result",
          "data": {
            "text/plain": [
              "[[0, 1, 2, 3], [4, 5, 6, 7], [8, 9, 10, 11], [12, 13, 14, 15]]"
            ]
          },
          "metadata": {
            "tags": []
          },
          "execution_count": 20
        }
      ]
    },
    {
      "cell_type": "code",
      "metadata": {
        "colab": {
          "base_uri": "https://localhost:8080/"
        },
        "id": "3uESIVP73Z7w",
        "outputId": "2d8b6c5f-6680-4af3-d1d6-1d0e01112208"
      },
      "source": [
        "from pprint import pprint\n",
        "pprint(a, indent=4, width=30)"
      ],
      "execution_count": 19,
      "outputs": [
        {
          "output_type": "stream",
          "text": [
            "[   [0, 1, 2, 3],\n",
            "    [4, 5, 6, 7],\n",
            "    [8, 9, 10, 11],\n",
            "    [12, 13, 14, 15]]\n"
          ],
          "name": "stdout"
        }
      ]
    },
    {
      "cell_type": "markdown",
      "metadata": {
        "id": "OVJmkpFj7n1U"
      },
      "source": [
        "## 23.2 for loop use"
      ]
    },
    {
      "cell_type": "code",
      "metadata": {
        "colab": {
          "base_uri": "https://localhost:8080/"
        },
        "id": "0E0fh30r4J8n",
        "outputId": "5101bb80-2b11-4a79-e0f2-dcfaeb294bd6"
      },
      "source": [
        "for row in a:\n",
        "  print(row)"
      ],
      "execution_count": 21,
      "outputs": [
        {
          "output_type": "stream",
          "text": [
            "[0, 1, 2, 3]\n",
            "[4, 5, 6, 7]\n",
            "[8, 9, 10, 11]\n",
            "[12, 13, 14, 15]\n"
          ],
          "name": "stdout"
        }
      ]
    },
    {
      "cell_type": "code",
      "metadata": {
        "colab": {
          "base_uri": "https://localhost:8080/"
        },
        "id": "Q6DpngRC7vas",
        "outputId": "c9db71ee-4801-49e5-c537-9a604401c206"
      },
      "source": [
        "for row in a:\n",
        "  for el in row:\n",
        "    print(f'{el:2d} ', end='')\n",
        "  print()"
      ],
      "execution_count": 27,
      "outputs": [
        {
          "output_type": "stream",
          "text": [
            " 0  1  2  3 \n",
            " 4  5  6  7 \n",
            " 8  9 10 11 \n",
            "12 13 14 15 \n"
          ],
          "name": "stdout"
        }
      ]
    },
    {
      "cell_type": "code",
      "metadata": {
        "colab": {
          "base_uri": "https://localhost:8080/"
        },
        "id": "Q900dsgJ8EgM",
        "outputId": "a6884151-cfb2-4142-9d78-45b39b2d7caa"
      },
      "source": [
        "for w, x, y, z in a:  # list unpacking\n",
        "  print(w, x, y, z)"
      ],
      "execution_count": 28,
      "outputs": [
        {
          "output_type": "stream",
          "text": [
            "0 1 2 3\n",
            "4 5 6 7\n",
            "8 9 10 11\n",
            "12 13 14 15\n"
          ],
          "name": "stdout"
        }
      ]
    },
    {
      "cell_type": "markdown",
      "metadata": {
        "id": "PEAhKAXs9CxC"
      },
      "source": [
        "## 23.3 create a list with loops "
      ]
    },
    {
      "cell_type": "code",
      "metadata": {
        "colab": {
          "base_uri": "https://localhost:8080/"
        },
        "id": "Rmjebx-f8d-O",
        "outputId": "442b48ce-27ae-4c88-c1ea-8acc1b2cb7d6"
      },
      "source": [
        "a = [[0 for _ in range(2)] for _ in range(3)]\n",
        "a"
      ],
      "execution_count": 30,
      "outputs": [
        {
          "output_type": "execute_result",
          "data": {
            "text/plain": [
              "[[0, 0], [0, 0], [0, 0]]"
            ]
          },
          "metadata": {
            "tags": []
          },
          "execution_count": 30
        }
      ]
    },
    {
      "cell_type": "code",
      "metadata": {
        "colab": {
          "base_uri": "https://localhost:8080/"
        },
        "id": "F4Bo1Xfc9p4B",
        "outputId": "53ab4b2f-f597-4811-ce4b-f075e620f53d"
      },
      "source": [
        "a = [[0] * 2 for _ in range(3)]\n",
        "a"
      ],
      "execution_count": 31,
      "outputs": [
        {
          "output_type": "execute_result",
          "data": {
            "text/plain": [
              "[[0, 0], [0, 0], [0, 0]]"
            ]
          },
          "metadata": {
            "tags": []
          },
          "execution_count": 31
        }
      ]
    },
    {
      "cell_type": "code",
      "metadata": {
        "colab": {
          "base_uri": "https://localhost:8080/"
        },
        "id": "Rcd4us3393oR",
        "outputId": "48386cdb-3a07-465a-ca68-bd300af1c276"
      },
      "source": [
        "number = [3, 1, 3, 2, 5]\n",
        "\n",
        "b = []\n",
        "for i in number:\n",
        "  line = []\n",
        "  for _ in range(i):\n",
        "    line.append(0)\n",
        "  b.append(line)\n",
        "b"
      ],
      "execution_count": 33,
      "outputs": [
        {
          "output_type": "execute_result",
          "data": {
            "text/plain": [
              "[[0, 0, 0], [0], [0, 0, 0], [0, 0], [0, 0, 0, 0, 0]]"
            ]
          },
          "metadata": {
            "tags": []
          },
          "execution_count": 33
        }
      ]
    },
    {
      "cell_type": "code",
      "metadata": {
        "colab": {
          "base_uri": "https://localhost:8080/"
        },
        "id": "aqRToaZt-aWc",
        "outputId": "4f2214bf-f75b-41e5-ce02-b8c89312a23b"
      },
      "source": [
        "[[0] * i for i in number]"
      ],
      "execution_count": 34,
      "outputs": [
        {
          "output_type": "execute_result",
          "data": {
            "text/plain": [
              "[[0, 0, 0], [0], [0, 0, 0], [0, 0], [0, 0, 0, 0, 0]]"
            ]
          },
          "metadata": {
            "tags": []
          },
          "execution_count": 34
        }
      ]
    },
    {
      "cell_type": "markdown",
      "metadata": {
        "id": "ky3iHezn_DAC"
      },
      "source": [
        "## 23.4 2D list assign and copy"
      ]
    },
    {
      "cell_type": "code",
      "metadata": {
        "colab": {
          "base_uri": "https://localhost:8080/"
        },
        "id": "ls33TcNK-fXJ",
        "outputId": "accad36f-b64d-4394-f338-5df5607a47da"
      },
      "source": [
        "a = [[10, 20], [30, 40]]\n",
        "b = a\n",
        "b[0][0] = 500\n",
        "a"
      ],
      "execution_count": 35,
      "outputs": [
        {
          "output_type": "execute_result",
          "data": {
            "text/plain": [
              "[[500, 20], [30, 40]]"
            ]
          },
          "metadata": {
            "tags": []
          },
          "execution_count": 35
        }
      ]
    },
    {
      "cell_type": "code",
      "metadata": {
        "colab": {
          "base_uri": "https://localhost:8080/"
        },
        "id": "cr_WKLn3_NZI",
        "outputId": "cc200aa6-71c9-4bd2-e061-a46b96b0b814"
      },
      "source": [
        "a = [[10, 20], [30, 40]]\n",
        "import copy\n",
        "b = copy.deepcopy(a)\n",
        "b[0][0] = 500\n",
        "a"
      ],
      "execution_count": 36,
      "outputs": [
        {
          "output_type": "execute_result",
          "data": {
            "text/plain": [
              "[[10, 20], [30, 40]]"
            ]
          },
          "metadata": {
            "tags": []
          },
          "execution_count": 36
        }
      ]
    },
    {
      "cell_type": "code",
      "metadata": {
        "id": "miQzZA-aAPA-"
      },
      "source": [
        ""
      ],
      "execution_count": null,
      "outputs": []
    }
  ]
}