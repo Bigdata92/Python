{
  "nbformat": 4,
  "nbformat_minor": 0,
  "metadata": {
    "colab": {
      "name": "심사문제23-26.ipynb",
      "provenance": [],
      "collapsed_sections": []
    },
    "kernelspec": {
      "name": "python3",
      "display_name": "Python 3"
    },
    "language_info": {
      "name": "python"
    }
  },
  "cells": [
    {
      "cell_type": "markdown",
      "metadata": {
        "id": "CLbatVdAme4c"
      },
      "source": [
        "# Q22"
      ]
    },
    {
      "cell_type": "code",
      "metadata": {
        "id": "UmZ3ODPtmbeP"
      },
      "source": [
        "# 이전에 문제 풀이 진행하셨습니다"
      ],
      "execution_count": null,
      "outputs": []
    },
    {
      "cell_type": "markdown",
      "metadata": {
        "id": "7lOFJ-SumhhO"
      },
      "source": [
        "# Q23"
      ]
    },
    {
      "cell_type": "code",
      "metadata": {
        "colab": {
          "base_uri": "https://localhost:8080/"
        },
        "id": "hsNiVzs6XZ_6",
        "outputId": "bb30d17c-fcd4-494b-db1e-f46f0d6fbfb5"
      },
      "source": [
        "col, row = map(int, input().split())\n",
        "matrix = []\n",
        "for i in range(row):\n",
        "  matrix.append(list(input()))\n",
        "matrix1 = [['.'] * (col+2) for i in range(col+2)]\n",
        "for i in range(col):\n",
        "  for j in range(col):\n",
        "    matrix1[i+1][j+1] = matrix[i][j]\n",
        "\n",
        "for i in range(1, col+1):\n",
        "  for j in range(1, col+1):\n",
        "    if matrix1[i][j] == '*':\n",
        "      pass\n",
        "    else:\n",
        "      count = 0\n",
        "      for k in range(-1,2):\n",
        "        for l in range(-1,2):\n",
        "          if matrix1[i+k][j+l] == '*':\n",
        "            count+=1\n",
        "      matrix1[i][j] = count\n",
        "print(matrix1)"
      ],
      "execution_count": null,
      "outputs": [
        {
          "output_type": "stream",
          "text": [
            "5 5\n",
            "..*..\n",
            "...*.\n",
            ".*...\n",
            ".***.\n",
            "*.*..\n",
            "[['.', '.', '.', '.', '.', '.', '.'], ['.', 0, 1, '*', 2, 1, '.'], ['.', 1, 2, 3, '*', 1, '.'], ['.', 2, '*', 5, 3, 2, '.'], ['.', 3, '*', '*', '*', 1, '.'], ['.', '*', 4, '*', 3, 1, '.'], ['.', '.', '.', '.', '.', '.', '.']]\n"
          ],
          "name": "stdout"
        }
      ]
    },
    {
      "cell_type": "code",
      "metadata": {
        "colab": {
          "base_uri": "https://localhost:8080/"
        },
        "id": "9WTLOLNecGAW",
        "outputId": "602899a7-ecd2-4722-f92a-e25d6bd165cb"
      },
      "source": [
        "for i in range(1, col+1):\n",
        "  for j in range(1, col+1):\n",
        "    print(matrix1[i][j], end='')\n",
        "  print()"
      ],
      "execution_count": null,
      "outputs": [
        {
          "output_type": "stream",
          "text": [
            "01*21\n",
            "123*1\n",
            "2*532\n",
            "3***1\n",
            "*4*31\n"
          ],
          "name": "stdout"
        }
      ]
    },
    {
      "cell_type": "markdown",
      "metadata": {
        "id": "MzuDzmeFmhys"
      },
      "source": [
        "# Q24.5"
      ]
    },
    {
      "cell_type": "code",
      "metadata": {
        "colab": {
          "base_uri": "https://localhost:8080/"
        },
        "id": "reQcvHmtmhyt",
        "outputId": "590e5d2c-a5f3-4b10-97ce-c7b6492d8907"
      },
      "source": [
        "a = input().split()\n",
        "count = 0\n",
        "for i in a:\n",
        "  i = i.strip(',.')\n",
        "  if i == 'the':\n",
        "    count+=1\n",
        "print(count)"
      ],
      "execution_count": null,
      "outputs": [
        {
          "output_type": "stream",
          "text": [
            "the grown-ups' response, this time, was to advise me to lay aside my drawings of boa constrictors, whether from the inside or the outside, and devote myself instead to geography, history, arithmetic, and grammar. That is why, at the, age of six, I gave up what might have been a magnificent career as a painter. I had been disheartened by the failure of my Drawing Number One and my Drawing Number Two. Grown-ups never understand anything by themselves, and it is tiresome for children to be always and forever explaining things to the.\n",
            "6\n"
          ],
          "name": "stdout"
        }
      ]
    },
    {
      "cell_type": "markdown",
      "metadata": {
        "id": "PvtSCAu6nHPA"
      },
      "source": [
        "# Q24.6"
      ]
    },
    {
      "cell_type": "code",
      "metadata": {
        "id": "3olYJB1YnHPD",
        "colab": {
          "base_uri": "https://localhost:8080/"
        },
        "outputId": "fd945cae-3f10-4750-b050-f200214b033a"
      },
      "source": [
        "a =  list(map(int, input().split(';')))\n",
        "a.sort(reverse=True)\n",
        "for i in a:\n",
        "  print(f'{i:>9,}')"
      ],
      "execution_count": null,
      "outputs": [
        {
          "output_type": "stream",
          "text": [
            "51900;83000;158000;367500;250000;59200;128500;1304000\n",
            "1,304,000\n",
            "  367,500\n",
            "  250,000\n",
            "  158,000\n",
            "  128,500\n",
            "   83,000\n",
            "   59,200\n",
            "   51,900\n"
          ],
          "name": "stdout"
        }
      ]
    },
    {
      "cell_type": "markdown",
      "metadata": {
        "id": "BHqK1rWCmiGt"
      },
      "source": [
        "# Q25"
      ]
    },
    {
      "cell_type": "code",
      "metadata": {
        "id": "nkVEsriVmiGz",
        "colab": {
          "base_uri": "https://localhost:8080/"
        },
        "outputId": "ded1c384-d7d5-4139-801f-e92c6ba9f169"
      },
      "source": [
        "keys = input().split()\n",
        "values = map(int, input().split())\n",
        " \n",
        "x = dict(zip(keys, values))\n",
        "\n",
        "x = {key : value for key, value in x.items() if key != 'delta' and value != 30}\n",
        "\n",
        "print(x)"
      ],
      "execution_count": null,
      "outputs": [
        {
          "output_type": "stream",
          "text": [
            "alpha bravo charlie delta echo foxtrot golf\n",
            "30 40 50 60 70 80 90\n",
            "{'bravo': 40, 'charlie': 50, 'echo': 70, 'foxtrot': 80, 'golf': 90}\n"
          ],
          "name": "stdout"
        }
      ]
    },
    {
      "cell_type": "markdown",
      "metadata": {
        "id": "-0hjbsfkmiO6"
      },
      "source": [
        "# Q26"
      ]
    },
    {
      "cell_type": "code",
      "metadata": {
        "id": "QEE-dpINmiO-",
        "colab": {
          "base_uri": "https://localhost:8080/"
        },
        "outputId": "b34ea542-8c56-4b6f-92f2-339328a93b06"
      },
      "source": [
        "a, b = map(int, input().split())\n",
        "a = {i for i in range(1,a+1) if a % i == 0}\n",
        "b = {i for i in range(1,b+1) if b % i == 0}\n",
        "divisor = a & b\n",
        " \n",
        "result = 0\n",
        "if type(divisor) == set:\n",
        "    result = sum(divisor)\n",
        " \n",
        "print(result)"
      ],
      "execution_count": null,
      "outputs": [
        {
          "output_type": "stream",
          "text": [
            "100 200\n",
            "217\n"
          ],
          "name": "stdout"
        }
      ]
    },
    {
      "cell_type": "code",
      "metadata": {
        "id": "DgV0I2cWkYQm"
      },
      "source": [
        ""
      ],
      "execution_count": null,
      "outputs": []
    }
  ]
}