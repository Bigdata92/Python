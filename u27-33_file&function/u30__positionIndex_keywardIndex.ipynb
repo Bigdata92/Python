{
  "nbformat": 4,
  "nbformat_minor": 0,
  "metadata": {
    "colab": {
      "name": "u30_ positionIndex_keywardIndex.ipynb",
      "provenance": [],
      "collapsed_sections": []
    },
    "kernelspec": {
      "name": "python3",
      "display_name": "Python 3"
    },
    "language_info": {
      "name": "python"
    }
  },
  "cells": [
    {
      "cell_type": "markdown",
      "metadata": {
        "id": "C876i2UOf1-v"
      },
      "source": [
        "# Unit 30. positionIndex_keywordIndex"
      ]
    },
    {
      "cell_type": "markdown",
      "metadata": {
        "id": "rvSOsod6f7Rv"
      },
      "source": [
        "## 39.1 positionIndex"
      ]
    },
    {
      "cell_type": "code",
      "metadata": {
        "colab": {
          "base_uri": "https://localhost:8080/"
        },
        "id": "InBD7KEOfot6",
        "outputId": "3de58006-47ec-497c-bf57-7fcab3ba60fb"
      },
      "source": [
        "print(10, 20, 30, sep=', ')\n",
        "# positionIndex : 10, 20, 30\n",
        "# keywordIndex : sep"
      ],
      "execution_count": 4,
      "outputs": [
        {
          "output_type": "stream",
          "text": [
            "10, 20, 30\n"
          ],
          "name": "stdout"
        }
      ]
    },
    {
      "cell_type": "code",
      "metadata": {
        "colab": {
          "base_uri": "https://localhost:8080/",
          "height": 136
        },
        "id": "wSrWsAP8gBrd",
        "outputId": "36c780b7-4f4d-4e55-f762-323e63bc0101"
      },
      "source": [
        "print(10, 20, 30, sep=', ', 40)"
      ],
      "execution_count": 5,
      "outputs": [
        {
          "output_type": "error",
          "ename": "SyntaxError",
          "evalue": "ignored",
          "traceback": [
            "\u001b[0;36m  File \u001b[0;32m\"<ipython-input-5-9498ad585704>\"\u001b[0;36m, line \u001b[0;32m1\u001b[0m\n\u001b[0;31m    print(10, 20, 30, sep=', ', 40)\u001b[0m\n\u001b[0m                               ^\u001b[0m\n\u001b[0;31mSyntaxError\u001b[0m\u001b[0;31m:\u001b[0m positional argument follows keyword argument\n"
          ]
        }
      ]
    },
    {
      "cell_type": "code",
      "metadata": {
        "id": "AS4kZMgagPSY"
      },
      "source": [
        "def print_numbers(a,b,c):\n",
        "  print(a)\n",
        "  print(b)\n",
        "  print(c)"
      ],
      "execution_count": 6,
      "outputs": []
    },
    {
      "cell_type": "code",
      "metadata": {
        "colab": {
          "base_uri": "https://localhost:8080/"
        },
        "id": "rKB8CeKlhHQ2",
        "outputId": "0ab74417-f8ed-45e2-811e-013c95c61426"
      },
      "source": [
        "print_numbers(10,20,30)"
      ],
      "execution_count": 7,
      "outputs": [
        {
          "output_type": "stream",
          "text": [
            "10\n",
            "20\n",
            "30\n"
          ],
          "name": "stdout"
        }
      ]
    },
    {
      "cell_type": "code",
      "metadata": {
        "colab": {
          "base_uri": "https://localhost:8080/"
        },
        "id": "j4vireQGhJRJ",
        "outputId": "e1bc5d8b-f738-41a7-dee4-d868254e8596"
      },
      "source": [
        "# list unpacking\n",
        "x = [10,20,30]\n",
        "print_numbers(*x)"
      ],
      "execution_count": 8,
      "outputs": [
        {
          "output_type": "stream",
          "text": [
            "10\n",
            "20\n",
            "30\n"
          ],
          "name": "stdout"
        }
      ]
    },
    {
      "cell_type": "code",
      "metadata": {
        "colab": {
          "base_uri": "https://localhost:8080/"
        },
        "id": "aa_LfS8AhN6b",
        "outputId": "8cb47906-6ebe-4f38-a06c-0de4cecfd8c7"
      },
      "source": [
        "# *x, *y - list, tuple unpacking\n",
        "x, y = [10,20,30], (40,50,60)\n",
        "print_numbers(*x)\n",
        "print_numbers(*y)"
      ],
      "execution_count": 9,
      "outputs": [
        {
          "output_type": "stream",
          "text": [
            "10\n",
            "20\n",
            "30\n",
            "40\n",
            "50\n",
            "60\n"
          ],
          "name": "stdout"
        }
      ]
    },
    {
      "cell_type": "markdown",
      "metadata": {
        "id": "mLNJdSOKhw-k"
      },
      "source": [
        "### variable argument"
      ]
    },
    {
      "cell_type": "code",
      "metadata": {
        "id": "bSiaKlGHhtWq"
      },
      "source": [
        "def print_numbers2(*args):\n",
        "  for arg in args:\n",
        "    print(arg)"
      ],
      "execution_count": 13,
      "outputs": []
    },
    {
      "cell_type": "code",
      "metadata": {
        "colab": {
          "base_uri": "https://localhost:8080/"
        },
        "id": "ygJDVbH3iAGZ",
        "outputId": "fae63189-9e28-4dc9-9c64-c9de5272f075"
      },
      "source": [
        "print_numbers2(10,20,30,40)"
      ],
      "execution_count": 14,
      "outputs": [
        {
          "output_type": "stream",
          "text": [
            "10\n",
            "20\n",
            "30\n",
            "40\n"
          ],
          "name": "stdout"
        }
      ]
    },
    {
      "cell_type": "code",
      "metadata": {
        "colab": {
          "base_uri": "https://localhost:8080/"
        },
        "id": "zkpFQV53iEqM",
        "outputId": "7df26327-ea8e-4874-cfda-d418890bf95c"
      },
      "source": [
        "print_numbers2(10)"
      ],
      "execution_count": 15,
      "outputs": [
        {
          "output_type": "stream",
          "text": [
            "10\n"
          ],
          "name": "stdout"
        }
      ]
    },
    {
      "cell_type": "markdown",
      "metadata": {
        "id": "STCznuO-iRQA"
      },
      "source": [
        "### fixed argument, variable argument mixed"
      ]
    },
    {
      "cell_type": "code",
      "metadata": {
        "id": "0oL1iyukiHrJ"
      },
      "source": [
        "def print_numbers3(a, *args):\n",
        "  print(a)\n",
        "  print(args)"
      ],
      "execution_count": 17,
      "outputs": []
    },
    {
      "cell_type": "code",
      "metadata": {
        "colab": {
          "base_uri": "https://localhost:8080/"
        },
        "id": "WOP3oNHAinZv",
        "outputId": "0084da50-87bf-4e12-96f7-9278609dfb92"
      },
      "source": [
        "print_numbers3(1, 10, 20)"
      ],
      "execution_count": 18,
      "outputs": [
        {
          "output_type": "stream",
          "text": [
            "1\n",
            "(10, 20)\n"
          ],
          "name": "stdout"
        }
      ]
    },
    {
      "cell_type": "code",
      "metadata": {
        "colab": {
          "base_uri": "https://localhost:8080/"
        },
        "id": "mBbYfPC2iubu",
        "outputId": "a005e1c3-ae21-4f3b-d5df-17f089a5b980"
      },
      "source": [
        "print_numbers3(*x)"
      ],
      "execution_count": 20,
      "outputs": [
        {
          "output_type": "stream",
          "text": [
            "10\n",
            "(20, 30)\n"
          ],
          "name": "stdout"
        }
      ]
    },
    {
      "cell_type": "code",
      "metadata": {
        "id": "jMtQFfnAi__h"
      },
      "source": [
        "def print_numbers4(*args, a):\n",
        "  print(args)\n",
        "  print(a)"
      ],
      "execution_count": 22,
      "outputs": []
    },
    {
      "cell_type": "code",
      "metadata": {
        "colab": {
          "base_uri": "https://localhost:8080/",
          "height": 172
        },
        "id": "5INTGhrCjSqX",
        "outputId": "a8e55476-1ed0-48a1-cfe7-6aaea0074b48"
      },
      "source": [
        "print_numbers4(*x)"
      ],
      "execution_count": 25,
      "outputs": [
        {
          "output_type": "error",
          "ename": "TypeError",
          "evalue": "ignored",
          "traceback": [
            "\u001b[0;31m---------------------------------------------------------------------------\u001b[0m",
            "\u001b[0;31mTypeError\u001b[0m                                 Traceback (most recent call last)",
            "\u001b[0;32m<ipython-input-25-c9aba5af1127>\u001b[0m in \u001b[0;36m<module>\u001b[0;34m()\u001b[0m\n\u001b[0;32m----> 1\u001b[0;31m \u001b[0mprint_numbers4\u001b[0m\u001b[0;34m(\u001b[0m\u001b[0;34m*\u001b[0m\u001b[0mx\u001b[0m\u001b[0;34m)\u001b[0m\u001b[0;34m\u001b[0m\u001b[0;34m\u001b[0m\u001b[0m\n\u001b[0m",
            "\u001b[0;31mTypeError\u001b[0m: print_numbers4() missing 1 required keyword-only argument: 'a'"
          ]
        }
      ]
    },
    {
      "cell_type": "markdown",
      "metadata": {
        "id": "fir9hQStmhcY"
      },
      "source": [
        "## 30.2 keyword argument"
      ]
    },
    {
      "cell_type": "code",
      "metadata": {
        "id": "edY3IwlZja8o"
      },
      "source": [
        "def personal_info(name, age, addr):\n",
        "  print('이름: ', name)\n",
        "  print('나이: ', age)\n",
        "  print('주소: ', addr)"
      ],
      "execution_count": 26,
      "outputs": []
    },
    {
      "cell_type": "code",
      "metadata": {
        "colab": {
          "base_uri": "https://localhost:8080/"
        },
        "id": "FZJlKEh-m2rL",
        "outputId": "fa7358a9-8312-4c27-a63a-6b3bb34b98b9"
      },
      "source": [
        "personal_info('홍길동', 30, '서울 강남구 도곡동')"
      ],
      "execution_count": 27,
      "outputs": [
        {
          "output_type": "stream",
          "text": [
            "이름:  홍길동\n",
            "나이:  30\n",
            "주소:  서울 강남구 도곡동\n"
          ],
          "name": "stdout"
        }
      ]
    },
    {
      "cell_type": "code",
      "metadata": {
        "colab": {
          "base_uri": "https://localhost:8080/"
        },
        "id": "U_Eb1I6em6lv",
        "outputId": "e83b42a5-c8f5-4c28-98a9-2292a25d3516"
      },
      "source": [
        "personal_info(age=30, name='홍길동', addr='서울 강남구 도곡동')"
      ],
      "execution_count": 29,
      "outputs": [
        {
          "output_type": "stream",
          "text": [
            "이름:  홍길동\n",
            "나이:  30\n",
            "주소:  서울 강남구 도곡동\n"
          ],
          "name": "stdout"
        }
      ]
    },
    {
      "cell_type": "markdown",
      "metadata": {
        "id": "13VnKsh2nYnH"
      },
      "source": [
        "## 30.3 keyword argument, dictionary unpacking"
      ]
    },
    {
      "cell_type": "code",
      "metadata": {
        "colab": {
          "base_uri": "https://localhost:8080/"
        },
        "id": "FyEXAJzjnBWW",
        "outputId": "c504934d-6518-459b-cec7-2d495c7b0900"
      },
      "source": [
        "x = {'name' : '홍길동', 'age' : 30, 'addr' : '서울 강남구 도곡동'}\n",
        "personal_info(**x)"
      ],
      "execution_count": 30,
      "outputs": [
        {
          "output_type": "stream",
          "text": [
            "이름:  홍길동\n",
            "나이:  30\n",
            "주소:  서울 강남구 도곡동\n"
          ],
          "name": "stdout"
        }
      ]
    },
    {
      "cell_type": "markdown",
      "metadata": {
        "id": "eAzo9Hlyol2Z"
      },
      "source": [
        "### variable keyword index"
      ]
    },
    {
      "cell_type": "code",
      "metadata": {
        "id": "m7k-MstJn4_K"
      },
      "source": [
        "def personal_info2(**kwargs):\n",
        "  for key, value in kwargs.items():\n",
        "    print(f'{key} : {value}')"
      ],
      "execution_count": 31,
      "outputs": []
    },
    {
      "cell_type": "code",
      "metadata": {
        "colab": {
          "base_uri": "https://localhost:8080/"
        },
        "id": "UtSKlDw1pBOB",
        "outputId": "3337a920-95ba-4e5d-ae9e-269b7b9b1c41"
      },
      "source": [
        "personal_info2(**x)"
      ],
      "execution_count": 32,
      "outputs": [
        {
          "output_type": "stream",
          "text": [
            "name : 홍길동\n",
            "age : 30\n",
            "addr : 서울 강남구 도곡동\n"
          ],
          "name": "stdout"
        }
      ]
    },
    {
      "cell_type": "code",
      "metadata": {
        "colab": {
          "base_uri": "https://localhost:8080/"
        },
        "id": "Bxo3XzwUpDJD",
        "outputId": "b1baa765-c2db-4b16-b227-8661f4db80c8"
      },
      "source": [
        "personal_info2(name='홍길동', age=30)"
      ],
      "execution_count": 33,
      "outputs": [
        {
          "output_type": "stream",
          "text": [
            "name : 홍길동\n",
            "age : 30\n"
          ],
          "name": "stdout"
        }
      ]
    },
    {
      "cell_type": "markdown",
      "metadata": {
        "id": "uiST2El6pu8p"
      },
      "source": [
        "### fixed argument and variable keyword argument"
      ]
    },
    {
      "cell_type": "code",
      "metadata": {
        "id": "4dOS6tyIpeqT"
      },
      "source": [
        "def personal_info3(name, **kwargs):\n",
        "  print(name)\n",
        "  print(kwargs)"
      ],
      "execution_count": 34,
      "outputs": []
    },
    {
      "cell_type": "code",
      "metadata": {
        "colab": {
          "base_uri": "https://localhost:8080/"
        },
        "id": "bnloyadQp6Id",
        "outputId": "9e5e0816-d396-40ee-f06b-4c5665c08e9c"
      },
      "source": [
        "personal_info3(**x)"
      ],
      "execution_count": 35,
      "outputs": [
        {
          "output_type": "stream",
          "text": [
            "홍길동\n",
            "{'age': 30, 'addr': '서울 강남구 도곡동'}\n"
          ],
          "name": "stdout"
        }
      ]
    },
    {
      "cell_type": "markdown",
      "metadata": {
        "id": "gOkkZsTlqfLh"
      },
      "source": [
        "### position argument, kewword argument"
      ]
    },
    {
      "cell_type": "code",
      "metadata": {
        "id": "wu-nHhrEqAVT"
      },
      "source": [
        "def my_print(*args, **kwargs):\n",
        "  print(*args, **kwargs)"
      ],
      "execution_count": 38,
      "outputs": []
    },
    {
      "cell_type": "code",
      "metadata": {
        "colab": {
          "base_uri": "https://localhost:8080/"
        },
        "id": "vkuvbqe1qrw4",
        "outputId": "a2a91a29-fede-44bb-ab5f-c38acd18c89b"
      },
      "source": [
        "my_print(10,20,30, sep=', ')"
      ],
      "execution_count": 39,
      "outputs": [
        {
          "output_type": "stream",
          "text": [
            "10, 20, 30\n"
          ],
          "name": "stdout"
        }
      ]
    },
    {
      "cell_type": "markdown",
      "metadata": {
        "id": "NGjiwk3GrguM"
      },
      "source": [
        "## 30.4 Storing initial values ​​in parameters"
      ]
    },
    {
      "cell_type": "code",
      "metadata": {
        "id": "G0exJpS1qy2A"
      },
      "source": [
        "def personal_info4(name, age, addr='비공개'):\n",
        "  print('이름: ', name)\n",
        "  print('나이: ', age)\n",
        "  print('주소: ', addr)"
      ],
      "execution_count": 40,
      "outputs": []
    },
    {
      "cell_type": "code",
      "metadata": {
        "colab": {
          "base_uri": "https://localhost:8080/"
        },
        "id": "nyzyHNUbrtxi",
        "outputId": "91f4f920-c85b-4ff6-efee-e99181719813"
      },
      "source": [
        "personal_info4('홍길동', 30)"
      ],
      "execution_count": 41,
      "outputs": [
        {
          "output_type": "stream",
          "text": [
            "이름:  홍길동\n",
            "나이:  30\n",
            "주소:  비공개\n"
          ],
          "name": "stdout"
        }
      ]
    },
    {
      "cell_type": "code",
      "metadata": {
        "colab": {
          "base_uri": "https://localhost:8080/"
        },
        "id": "edUby4pzrw65",
        "outputId": "348d54e8-7619-4fda-d7ed-2934c60db796"
      },
      "source": [
        "personal_info4(**x)"
      ],
      "execution_count": 43,
      "outputs": [
        {
          "output_type": "stream",
          "text": [
            "이름:  홍길동\n",
            "나이:  30\n",
            "주소:  서울 강남구 도곡동\n"
          ],
          "name": "stdout"
        }
      ]
    },
    {
      "cell_type": "code",
      "metadata": {
        "id": "aoZjpKEbr2id"
      },
      "source": [
        ""
      ],
      "execution_count": null,
      "outputs": []
    }
  ]
}