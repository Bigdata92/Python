{
  "nbformat": 4,
  "nbformat_minor": 0,
  "metadata": {
    "colab": {
      "name": "u33_ScopeRule.ipynb",
      "provenance": []
    },
    "kernelspec": {
      "name": "python3",
      "display_name": "Python 3"
    },
    "language_info": {
      "name": "python"
    }
  },
  "cells": [
    {
      "cell_type": "markdown",
      "metadata": {
        "id": "q4xEh7jdrqdf"
      },
      "source": [
        "# Unit 33. Variable's Scope Rule"
      ]
    },
    {
      "cell_type": "code",
      "metadata": {
        "colab": {
          "base_uri": "https://localhost:8080/"
        },
        "id": "ZeCE8fPepAFD",
        "outputId": "2d6b0ddd-84a8-4149-b7eb-b4cb9299f17c"
      },
      "source": [
        "x = 10 # global var\n",
        "def foo():\n",
        "  print(x)\n",
        "\n",
        "foo()\n",
        "print(x)"
      ],
      "execution_count": 1,
      "outputs": [
        {
          "output_type": "stream",
          "text": [
            "10\n",
            "10\n"
          ],
          "name": "stdout"
        }
      ]
    },
    {
      "cell_type": "code",
      "metadata": {
        "colab": {
          "base_uri": "https://localhost:8080/"
        },
        "id": "KraAtL8Mr12r",
        "outputId": "3d843d3f-0e5b-4398-c62d-2285811258fc"
      },
      "source": [
        "def foo():\n",
        "  y = 10 # local var\n",
        "  print(y)\n",
        "\n",
        "foo()"
      ],
      "execution_count": 2,
      "outputs": [
        {
          "output_type": "stream",
          "text": [
            "10\n"
          ],
          "name": "stdout"
        }
      ]
    },
    {
      "cell_type": "code",
      "metadata": {
        "colab": {
          "base_uri": "https://localhost:8080/",
          "height": 172
        },
        "id": "yAt2FXKEsJeI",
        "outputId": "d950dbf6-741f-43c2-c1f7-8600d742dbbd"
      },
      "source": [
        "print(y)"
      ],
      "execution_count": 3,
      "outputs": [
        {
          "output_type": "error",
          "ename": "NameError",
          "evalue": "ignored",
          "traceback": [
            "\u001b[0;31m---------------------------------------------------------------------------\u001b[0m",
            "\u001b[0;31mNameError\u001b[0m                                 Traceback (most recent call last)",
            "\u001b[0;32m<ipython-input-3-d9183e048de3>\u001b[0m in \u001b[0;36m<module>\u001b[0;34m()\u001b[0m\n\u001b[0;32m----> 1\u001b[0;31m \u001b[0mprint\u001b[0m\u001b[0;34m(\u001b[0m\u001b[0my\u001b[0m\u001b[0;34m)\u001b[0m\u001b[0;34m\u001b[0m\u001b[0;34m\u001b[0m\u001b[0m\n\u001b[0m",
            "\u001b[0;31mNameError\u001b[0m: name 'y' is not defined"
          ]
        }
      ]
    },
    {
      "cell_type": "markdown",
      "metadata": {
        "id": "FkkNE94CtqYd"
      },
      "source": [
        "## edit global var in func"
      ]
    },
    {
      "cell_type": "code",
      "metadata": {
        "colab": {
          "base_uri": "https://localhost:8080/"
        },
        "id": "vQsoe0XnsWYS",
        "outputId": "002cbab3-2048-4acc-b663-721edccd7d26"
      },
      "source": [
        "x = 10 \n",
        "def foo():\n",
        "  x = 20  # local var\n",
        "  print(x)\n",
        "\n",
        "foo()\n",
        "print(x)"
      ],
      "execution_count": 4,
      "outputs": [
        {
          "output_type": "stream",
          "text": [
            "20\n",
            "10\n"
          ],
          "name": "stdout"
        }
      ]
    },
    {
      "cell_type": "code",
      "metadata": {
        "colab": {
          "base_uri": "https://localhost:8080/"
        },
        "id": "5_vFZr4wuEmF",
        "outputId": "0c3c9c41-8db2-4710-c6b6-e005abc93ce3"
      },
      "source": [
        "x = 10 \n",
        "def foo():\n",
        "  global x\n",
        "  x = 20  # local var\n",
        "  print(x)\n",
        "\n",
        "foo()\n",
        "print(x)"
      ],
      "execution_count": 5,
      "outputs": [
        {
          "output_type": "stream",
          "text": [
            "20\n",
            "20\n"
          ],
          "name": "stdout"
        }
      ]
    },
    {
      "cell_type": "code",
      "metadata": {
        "colab": {
          "base_uri": "https://localhost:8080/"
        },
        "id": "rPCifzFGuiVW",
        "outputId": "ac34eacd-3c7a-467a-827a-8b2a2b9ad59c"
      },
      "source": [
        "def foo():\n",
        "  global z\n",
        "  z = 10\n",
        "  print(z)\n",
        "foo()\n",
        "print(z)"
      ],
      "execution_count": 7,
      "outputs": [
        {
          "output_type": "stream",
          "text": [
            "10\n",
            "10\n"
          ],
          "name": "stdout"
        }
      ]
    },
    {
      "cell_type": "code",
      "metadata": {
        "id": "mMqmgp1qvJGf"
      },
      "source": [
        ""
      ],
      "execution_count": null,
      "outputs": []
    }
  ]
}