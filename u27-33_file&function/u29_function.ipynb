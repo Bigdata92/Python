{
  "nbformat": 4,
  "nbformat_minor": 0,
  "metadata": {
    "colab": {
      "name": "u29_function.ipynb",
      "provenance": [],
      "collapsed_sections": []
    },
    "kernelspec": {
      "name": "python3",
      "display_name": "Python 3"
    },
    "language_info": {
      "name": "python"
    }
  },
  "cells": [
    {
      "cell_type": "markdown",
      "metadata": {
        "id": "_ZZ9sofOMQQx"
      },
      "source": [
        "# Unit 29. function"
      ]
    },
    {
      "cell_type": "markdown",
      "metadata": {
        "id": "7IxEf-mMMWS7"
      },
      "source": [
        "## 29.1 Making print function"
      ]
    },
    {
      "cell_type": "code",
      "metadata": {
        "id": "6W2wCO8fMUIr"
      },
      "source": [
        "def hello():\n",
        "  print('hello, world!')"
      ],
      "execution_count": null,
      "outputs": []
    },
    {
      "cell_type": "code",
      "metadata": {
        "colab": {
          "base_uri": "https://localhost:8080/"
        },
        "id": "HKmxEwqAO1-U",
        "outputId": "c444c85d-541f-4c91-9a07-f03b0ccdb0fe"
      },
      "source": [
        "hello()"
      ],
      "execution_count": null,
      "outputs": [
        {
          "output_type": "stream",
          "text": [
            "hello, world!\n"
          ],
          "name": "stdout"
        }
      ]
    },
    {
      "cell_type": "markdown",
      "metadata": {
        "id": "-eCUMEUtPx12"
      },
      "source": [
        "## 29.2 add function"
      ]
    },
    {
      "cell_type": "code",
      "metadata": {
        "id": "DqQxGKmYO32J"
      },
      "source": [
        "def add(a, b):\n",
        "  print(a+b)"
      ],
      "execution_count": null,
      "outputs": []
    },
    {
      "cell_type": "code",
      "metadata": {
        "colab": {
          "base_uri": "https://localhost:8080/"
        },
        "id": "THTN-sCRQJX9",
        "outputId": "03a00883-d5bb-4f88-eb70-2e3b4fda844b"
      },
      "source": [
        "add(4, 5)"
      ],
      "execution_count": null,
      "outputs": [
        {
          "output_type": "stream",
          "text": [
            "9\n"
          ],
          "name": "stdout"
        }
      ]
    },
    {
      "cell_type": "code",
      "metadata": {
        "id": "BOfaBDgzP_ZP"
      },
      "source": [
        "# Docstrings\n",
        "def add(a, b):\n",
        "  '''\n",
        "  이 함수는 a와 b를 더한 뒤 결과를 반환하는 함수입니다.\n",
        "  '''\n",
        "  print(a+b)"
      ],
      "execution_count": null,
      "outputs": []
    },
    {
      "cell_type": "code",
      "metadata": {
        "id": "_F66lqseRSKg"
      },
      "source": [
        "# 도움말 호출\n",
        "add?"
      ],
      "execution_count": null,
      "outputs": []
    },
    {
      "cell_type": "code",
      "metadata": {
        "id": "O7l9s8VtRVZK"
      },
      "source": [
        "print?"
      ],
      "execution_count": null,
      "outputs": []
    },
    {
      "cell_type": "markdown",
      "metadata": {
        "id": "-q0Ev3ZKRozz"
      },
      "source": [
        "## 29.3 return value"
      ]
    },
    {
      "cell_type": "code",
      "metadata": {
        "id": "L1iunDKqRYIH"
      },
      "source": [
        "def add(a, b):\n",
        "  return a+b"
      ],
      "execution_count": null,
      "outputs": []
    },
    {
      "cell_type": "code",
      "metadata": {
        "colab": {
          "base_uri": "https://localhost:8080/"
        },
        "id": "TEwXjNPeRuQF",
        "outputId": "646f765f-034d-43e9-f75d-c5a3f1e7bd10"
      },
      "source": [
        "add(4,5), add(10,20)"
      ],
      "execution_count": null,
      "outputs": [
        {
          "output_type": "execute_result",
          "data": {
            "text/plain": [
              "(9, 30)"
            ]
          },
          "metadata": {
            "tags": []
          },
          "execution_count": 9
        }
      ]
    },
    {
      "cell_type": "code",
      "metadata": {
        "colab": {
          "base_uri": "https://localhost:8080/"
        },
        "id": "lSc_8y9gRwJy",
        "outputId": "4dfd2d96-3e9a-46b7-e1d4-8a7a3257fbbe"
      },
      "source": [
        "x = add(23, 45)\n",
        "x"
      ],
      "execution_count": null,
      "outputs": [
        {
          "output_type": "execute_result",
          "data": {
            "text/plain": [
              "68"
            ]
          },
          "metadata": {
            "tags": []
          },
          "execution_count": 11
        }
      ]
    },
    {
      "cell_type": "code",
      "metadata": {
        "id": "dKSzi9GSR2G_"
      },
      "source": [
        "def is_ten(x):\n",
        "  return x == 10"
      ],
      "execution_count": null,
      "outputs": []
    },
    {
      "cell_type": "code",
      "metadata": {
        "colab": {
          "base_uri": "https://localhost:8080/"
        },
        "id": "xRio9kyeSOtj",
        "outputId": "07f15d81-19d5-4c61-c857-ddd2a15494f8"
      },
      "source": [
        "is_ten(101//10)"
      ],
      "execution_count": null,
      "outputs": [
        {
          "output_type": "execute_result",
          "data": {
            "text/plain": [
              "True"
            ]
          },
          "metadata": {
            "tags": []
          },
          "execution_count": 14
        }
      ]
    },
    {
      "cell_type": "code",
      "metadata": {
        "id": "0ceGOs7sSRl5"
      },
      "source": [
        "def not_ten(x):\n",
        "  if x == 10:\n",
        "    return\n",
        "  else:\n",
        "    print('It is not 10.')"
      ],
      "execution_count": null,
      "outputs": []
    },
    {
      "cell_type": "code",
      "metadata": {
        "id": "thB0gxBPS_KK"
      },
      "source": [
        "def not_ten(x):\n",
        "  if x == 10:\n",
        "    return\n",
        "  print('It is not 10.')"
      ],
      "execution_count": null,
      "outputs": []
    },
    {
      "cell_type": "code",
      "metadata": {
        "colab": {
          "base_uri": "https://localhost:8080/"
        },
        "id": "of8o5RTkSWRS",
        "outputId": "5c90b9d8-bdac-469b-8ff2-4155ba30c9a2"
      },
      "source": [
        "not_ten(5)"
      ],
      "execution_count": null,
      "outputs": [
        {
          "output_type": "stream",
          "text": [
            "It is not 10.\n"
          ],
          "name": "stdout"
        }
      ]
    },
    {
      "cell_type": "code",
      "metadata": {
        "id": "wWNrDuNOSgbe"
      },
      "source": [
        "not_ten(101//10)"
      ],
      "execution_count": null,
      "outputs": []
    },
    {
      "cell_type": "markdown",
      "metadata": {
        "id": "UQ9utUZBTbFA"
      },
      "source": [
        "## 29.4 return many value"
      ]
    },
    {
      "cell_type": "code",
      "metadata": {
        "id": "WD5pVNUtSiNF"
      },
      "source": [
        "def add_sub(a,b):\n",
        "  return a+b, a-b"
      ],
      "execution_count": null,
      "outputs": []
    },
    {
      "cell_type": "code",
      "metadata": {
        "id": "YjwSo19jTiTW"
      },
      "source": [
        "x, y = add_sub(15, 7)"
      ],
      "execution_count": null,
      "outputs": []
    },
    {
      "cell_type": "code",
      "metadata": {
        "colab": {
          "base_uri": "https://localhost:8080/"
        },
        "id": "5ISet17UTtp2",
        "outputId": "9131a39d-b8c7-434b-e98d-3d9479c62961"
      },
      "source": [
        "x, y"
      ],
      "execution_count": null,
      "outputs": [
        {
          "output_type": "execute_result",
          "data": {
            "text/plain": [
              "(22, 8)"
            ]
          },
          "metadata": {
            "tags": []
          },
          "execution_count": 27
        }
      ]
    },
    {
      "cell_type": "markdown",
      "metadata": {
        "id": "T1gJufOHUJ5N"
      },
      "source": [
        "## 29.5 function call process"
      ]
    },
    {
      "cell_type": "code",
      "metadata": {
        "id": "6GRLqb-ZTu82"
      },
      "source": [
        "# use the stack "
      ],
      "execution_count": null,
      "outputs": []
    },
    {
      "cell_type": "markdown",
      "metadata": {
        "id": "pxZcUXDmVT9U"
      },
      "source": [
        "## exercise\n",
        "- 3자리수 정수 두개를 곱해서 나온 결과가 팔린드롬이 되도록 할 때, 가장 큰 수는?\n",
        "- 팔린드롬 = 12321"
      ]
    },
    {
      "cell_type": "code",
      "metadata": {
        "colab": {
          "base_uri": "https://localhost:8080/"
        },
        "id": "yToF0KfQVeoU",
        "outputId": "93a169bb-3295-40fb-c3eb-adcc64744323"
      },
      "source": [
        "li = []\n",
        "for i in range(100, 1000):\n",
        "  for j in range(100, 1000):\n",
        "    if i*j == int(str(i * j)[::-1]):\n",
        "      li.append(i * j) \n",
        "print(max(li))"
      ],
      "execution_count": null,
      "outputs": [
        {
          "output_type": "stream",
          "text": [
            "906609\n"
          ],
          "name": "stdout"
        }
      ]
    },
    {
      "cell_type": "code",
      "metadata": {
        "id": "LeQl7Z8bZlnq"
      },
      "source": [
        "def is_palindrome(i, j):\n",
        "  if i*j == int(str(i * j)[::-1]):\n",
        "    return li.append(i * j)"
      ],
      "execution_count": null,
      "outputs": []
    },
    {
      "cell_type": "code",
      "metadata": {
        "colab": {
          "base_uri": "https://localhost:8080/"
        },
        "id": "n4w4XtOiV5_v",
        "outputId": "befb2e23-71e8-4620-dd54-eb768944c349"
      },
      "source": [
        "li = []\n",
        "for i in range(100, 1000):\n",
        "  for j in range(100, 1000):\n",
        "    is_palindrome(i, j)\n",
        "print(max(li))"
      ],
      "execution_count": null,
      "outputs": [
        {
          "output_type": "stream",
          "text": [
            "906609\n"
          ],
          "name": "stdout"
        }
      ]
    },
    {
      "cell_type": "code",
      "metadata": {
        "id": "D1FxsYF5ZNrV"
      },
      "source": [
        "# instructor's solution\n",
        "def is_palindrome(x):\n",
        "  s = str(x)\n",
        "  return s == s[::-1]"
      ],
      "execution_count": 51,
      "outputs": []
    },
    {
      "cell_type": "code",
      "metadata": {
        "id": "syH7b2kUYJUD",
        "colab": {
          "base_uri": "https://localhost:8080/"
        },
        "outputId": "c8a72a96-ec01-49d8-a627-4a45b3dc1c80"
      },
      "source": [
        "instructor's solution\n",
        "max_pal, m, n = 0, 0, 0\n",
        "for i in range(100, 1000):\n",
        "  for j in range(100, 1000):\n",
        "    if is_palindrome(i * j):\n",
        "      if i * j > max_pal:\n",
        "        max_pal = i * j\n",
        "        m = i\n",
        "        n = j\n",
        "print(f'{m} x {n} = {max_pal}')"
      ],
      "execution_count": 56,
      "outputs": [
        {
          "output_type": "stream",
          "text": [
            "913 x 993 = 906609\n"
          ],
          "name": "stdout"
        }
      ]
    },
    {
      "cell_type": "code",
      "metadata": {
        "id": "3Pi3n_fXeCY9"
      },
      "source": [
        ""
      ],
      "execution_count": null,
      "outputs": []
    }
  ]
}