{
  "nbformat": 4,
  "nbformat_minor": 0,
  "metadata": {
    "colab": {
      "name": "u31_recursivecall.ipynb",
      "provenance": [],
      "collapsed_sections": []
    },
    "kernelspec": {
      "name": "python3",
      "display_name": "Python 3"
    },
    "language_info": {
      "name": "python"
    }
  },
  "cells": [
    {
      "cell_type": "markdown",
      "metadata": {
        "id": "XrgswGKZuE7Q"
      },
      "source": [
        "# Unit 31. Recursive Call"
      ]
    },
    {
      "cell_type": "markdown",
      "metadata": {
        "id": "FTNvfP7kubj8"
      },
      "source": [
        "## factorial function"
      ]
    },
    {
      "cell_type": "code",
      "metadata": {
        "id": "xzKsIMIxt9ze"
      },
      "source": [
        "def factorial(n):\n",
        "  if n == 0:\n",
        "    return 1\n",
        "  return n * factorial(n-1)"
      ],
      "execution_count": 1,
      "outputs": []
    },
    {
      "cell_type": "code",
      "metadata": {
        "colab": {
          "base_uri": "https://localhost:8080/"
        },
        "id": "eIr5Vpopuz8Q",
        "outputId": "135c5fda-b5cf-4538-cf52-1e4a35d95e69"
      },
      "source": [
        "factorial(5)"
      ],
      "execution_count": 2,
      "outputs": [
        {
          "output_type": "execute_result",
          "data": {
            "text/plain": [
              "120"
            ]
          },
          "metadata": {
            "tags": []
          },
          "execution_count": 2
        }
      ]
    },
    {
      "cell_type": "code",
      "metadata": {
        "id": "CMgsdrX8vUMO"
      },
      "source": [
        "def fibo(n):\n",
        "  if n in (1, 2):\n",
        "    return 1\n",
        "  return fibo(n-1) + fibo(n-2)"
      ],
      "execution_count": 7,
      "outputs": []
    },
    {
      "cell_type": "code",
      "metadata": {
        "colab": {
          "base_uri": "https://localhost:8080/"
        },
        "id": "YWACu3cuwafd",
        "outputId": "558dfc2e-e2b5-46ad-a7a7-2d6b950b4cae"
      },
      "source": [
        "fibo(5)"
      ],
      "execution_count": 8,
      "outputs": [
        {
          "output_type": "execute_result",
          "data": {
            "text/plain": [
              "5"
            ]
          },
          "metadata": {
            "tags": []
          },
          "execution_count": 8
        }
      ]
    },
    {
      "cell_type": "code",
      "metadata": {
        "id": "PzRU4CN0wb1O"
      },
      "source": [
        ""
      ],
      "execution_count": null,
      "outputs": []
    }
  ]
}