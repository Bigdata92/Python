{
  "nbformat": 4,
  "nbformat_minor": 0,
  "metadata": {
    "colab": {
      "name": "u35_StaticMethod.ipynb",
      "provenance": [],
      "collapsed_sections": []
    },
    "kernelspec": {
      "name": "python3",
      "display_name": "Python 3"
    },
    "language_info": {
      "name": "python"
    }
  },
  "cells": [
    {
      "cell_type": "markdown",
      "metadata": {
        "id": "RoXm0JqxBNja"
      },
      "source": [
        "# Unit 35. Static Method"
      ]
    },
    {
      "cell_type": "code",
      "metadata": {
        "id": "byojmxTzBJQx"
      },
      "source": [
        "class Calc:\n",
        "  @staticmethod\n",
        "  def add(a, b):\n",
        "    print(a+b)"
      ],
      "execution_count": 1,
      "outputs": []
    },
    {
      "cell_type": "code",
      "metadata": {
        "colab": {
          "base_uri": "https://localhost:8080/"
        },
        "id": "ZcYnbsJUBXmA",
        "outputId": "2eb43571-5925-438b-8ca6-bb69ce8b66cb"
      },
      "source": [
        "Calc.add(2, 3)"
      ],
      "execution_count": 2,
      "outputs": [
        {
          "output_type": "stream",
          "text": [
            "5\n"
          ],
          "name": "stdout"
        }
      ]
    },
    {
      "cell_type": "code",
      "metadata": {
        "id": "POJE3dPfBazt"
      },
      "source": [
        ""
      ],
      "execution_count": null,
      "outputs": []
    }
  ]
}