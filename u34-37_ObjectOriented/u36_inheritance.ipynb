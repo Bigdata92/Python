{
  "nbformat": 4,
  "nbformat_minor": 0,
  "metadata": {
    "colab": {
      "name": "u36_inheritance.ipynb",
      "provenance": [],
      "collapsed_sections": []
    },
    "kernelspec": {
      "name": "python3",
      "display_name": "Python 3"
    },
    "language_info": {
      "name": "python"
    }
  },
  "cells": [
    {
      "cell_type": "markdown",
      "metadata": {
        "id": "J1HaumQIwiSx"
      },
      "source": [
        "# Unit 36. Inheritance"
      ]
    },
    {
      "cell_type": "code",
      "metadata": {
        "id": "IDIY5dKqwcHA"
      },
      "source": [
        "class Person:\n",
        "  def greeting(self):\n",
        "    print('안녕하세요?')\n",
        "\n",
        "class Student(Person):\n",
        "  def study(self):\n",
        "    print('공부하기')"
      ],
      "execution_count": 1,
      "outputs": []
    },
    {
      "cell_type": "code",
      "metadata": {
        "colab": {
          "base_uri": "https://localhost:8080/"
        },
        "id": "ibyAJwrryXrZ",
        "outputId": "4891a179-4caf-4d29-9d1d-2836b7a244c6"
      },
      "source": [
        "james = Student()\n",
        "james.greeting()"
      ],
      "execution_count": 2,
      "outputs": [
        {
          "output_type": "stream",
          "text": [
            "안녕하세요?\n"
          ],
          "name": "stdout"
        }
      ]
    },
    {
      "cell_type": "code",
      "metadata": {
        "colab": {
          "base_uri": "https://localhost:8080/"
        },
        "id": "eKY-ASx1ybTV",
        "outputId": "1c201b66-61ba-4673-9b5a-ec78f6f2393a"
      },
      "source": [
        "james.study()"
      ],
      "execution_count": 3,
      "outputs": [
        {
          "output_type": "stream",
          "text": [
            "공부하기\n"
          ],
          "name": "stdout"
        }
      ]
    },
    {
      "cell_type": "markdown",
      "metadata": {
        "id": "LhVmiVGqzvM2"
      },
      "source": [
        "## 36.3 Using properties from base classes"
      ]
    },
    {
      "cell_type": "code",
      "metadata": {
        "id": "WQBejXFQy5x1"
      },
      "source": [
        "class Person:\n",
        "  def __init__(self):\n",
        "    self.hello = '안녕하세요'\n",
        "    print('Person.__init__')\n",
        "\n",
        "class Student(Person):\n",
        "  def __init__(self):\n",
        "    self.school = '파이썬'\n",
        "    print('Student.__init__')"
      ],
      "execution_count": 4,
      "outputs": []
    },
    {
      "cell_type": "code",
      "metadata": {
        "colab": {
          "base_uri": "https://localhost:8080/",
          "height": 53
        },
        "id": "U9JJ9hjn0R8-",
        "outputId": "e297f254-0bf0-4fff-c7d8-9e3f4d3a9c15"
      },
      "source": [
        "james = Student()\n",
        "james.school"
      ],
      "execution_count": 5,
      "outputs": [
        {
          "output_type": "stream",
          "text": [
            "Student.__init__\n"
          ],
          "name": "stdout"
        },
        {
          "output_type": "execute_result",
          "data": {
            "application/vnd.google.colaboratory.intrinsic+json": {
              "type": "string"
            },
            "text/plain": [
              "'파이썬'"
            ]
          },
          "metadata": {
            "tags": []
          },
          "execution_count": 5
        }
      ]
    },
    {
      "cell_type": "code",
      "metadata": {
        "colab": {
          "base_uri": "https://localhost:8080/",
          "height": 172
        },
        "id": "OYJjXc_m0aAk",
        "outputId": "bfc47cdc-e12d-42e4-e4aa-fa9e14b72f96"
      },
      "source": [
        "james.hello"
      ],
      "execution_count": 6,
      "outputs": [
        {
          "output_type": "error",
          "ename": "AttributeError",
          "evalue": "ignored",
          "traceback": [
            "\u001b[0;31m---------------------------------------------------------------------------\u001b[0m",
            "\u001b[0;31mAttributeError\u001b[0m                            Traceback (most recent call last)",
            "\u001b[0;32m<ipython-input-6-da95e56173fd>\u001b[0m in \u001b[0;36m<module>\u001b[0;34m()\u001b[0m\n\u001b[0;32m----> 1\u001b[0;31m \u001b[0mjames\u001b[0m\u001b[0;34m.\u001b[0m\u001b[0mhello\u001b[0m\u001b[0;34m\u001b[0m\u001b[0;34m\u001b[0m\u001b[0m\n\u001b[0m",
            "\u001b[0;31mAttributeError\u001b[0m: 'Student' object has no attribute 'hello'"
          ]
        }
      ]
    },
    {
      "cell_type": "markdown",
      "metadata": {
        "id": "ImrWiqCe01OP"
      },
      "source": [
        "### using super() initialize basis class"
      ]
    },
    {
      "cell_type": "code",
      "metadata": {
        "id": "_lbOZTaF0bkw"
      },
      "source": [
        "class Person:\n",
        "  def __init__(self):\n",
        "    self.hello = '안녕하세요'\n",
        "    print('Person.__init__')\n",
        "\n",
        "class Student(Person):\n",
        "  def __init__(self):\n",
        "    super().__init__()\n",
        "    self.school = '파이썬'\n",
        "    print('Student.__init__')"
      ],
      "execution_count": 7,
      "outputs": []
    },
    {
      "cell_type": "code",
      "metadata": {
        "colab": {
          "base_uri": "https://localhost:8080/",
          "height": 71
        },
        "id": "vPqKWQvb0_ew",
        "outputId": "2aca86d2-d2a7-47b9-b4a8-597aea00883a"
      },
      "source": [
        "james = Student()\n",
        "james.hello"
      ],
      "execution_count": 10,
      "outputs": [
        {
          "output_type": "stream",
          "text": [
            "Person.__init__\n",
            "Student.__init__\n"
          ],
          "name": "stdout"
        },
        {
          "output_type": "execute_result",
          "data": {
            "application/vnd.google.colaboratory.intrinsic+json": {
              "type": "string"
            },
            "text/plain": [
              "'안녕하세요'"
            ]
          },
          "metadata": {
            "tags": []
          },
          "execution_count": 10
        }
      ]
    },
    {
      "cell_type": "code",
      "metadata": {
        "id": "XRk9HcCi1AmB"
      },
      "source": [
        "class Person:\n",
        "  def __init__(self):\n",
        "    self.hello = '안녕하세요'\n",
        "    print('Person.__init__')\n",
        "\n",
        "class Student(Person):\n",
        "  pass"
      ],
      "execution_count": 11,
      "outputs": []
    },
    {
      "cell_type": "code",
      "metadata": {
        "colab": {
          "base_uri": "https://localhost:8080/",
          "height": 53
        },
        "id": "0zP1viyy1Bpz",
        "outputId": "6e5cd856-f007-4f9f-cecc-4002ec109a46"
      },
      "source": [
        "maria = Student()\n",
        "maria.hello"
      ],
      "execution_count": 13,
      "outputs": [
        {
          "output_type": "stream",
          "text": [
            "Person.__init__\n"
          ],
          "name": "stdout"
        },
        {
          "output_type": "execute_result",
          "data": {
            "application/vnd.google.colaboratory.intrinsic+json": {
              "type": "string"
            },
            "text/plain": [
              "'안녕하세요'"
            ]
          },
          "metadata": {
            "tags": []
          },
          "execution_count": 13
        }
      ]
    },
    {
      "cell_type": "markdown",
      "metadata": {
        "id": "3nRQdWgF12sp"
      },
      "source": [
        "## 36.4 Method Overriding"
      ]
    },
    {
      "cell_type": "code",
      "metadata": {
        "id": "vrlCVdZB12Q1"
      },
      "source": [
        "class Person:\n",
        "  def greeting(self):\n",
        "    print('안녕하세요?')\n",
        "\n",
        "class Student(Person):\n",
        "  def greeting(self):\n",
        "    print('안녕하세요? 저는 파이썬을 공부하는 학생입니다.')"
      ],
      "execution_count": 16,
      "outputs": []
    },
    {
      "cell_type": "code",
      "metadata": {
        "colab": {
          "base_uri": "https://localhost:8080/"
        },
        "id": "t0Bos18k2jF4",
        "outputId": "2f9e2f19-0f6f-46af-c3e1-290313150bdf"
      },
      "source": [
        "james = Student()\n",
        "james.greeting()"
      ],
      "execution_count": 17,
      "outputs": [
        {
          "output_type": "stream",
          "text": [
            "안녕하세요? 저는 파이썬을 공부하는 학생입니다.\n"
          ],
          "name": "stdout"
        }
      ]
    },
    {
      "cell_type": "markdown",
      "metadata": {
        "id": "Kg81y8p16Cg2"
      },
      "source": [
        "## 36.6 abstract class - Interface"
      ]
    },
    {
      "cell_type": "code",
      "metadata": {
        "id": "d7sEvChK2mGD"
      },
      "source": [
        "from abc import *\n",
        "\n",
        "class StudentBase(metaclass=ABCMeta):\n",
        "  @abstractmethod\n",
        "  def study(self):\n",
        "    pass\n",
        "\n",
        "  @abstractmethod\n",
        "  def go_to_school(self):\n",
        "    pass"
      ],
      "execution_count": 18,
      "outputs": []
    },
    {
      "cell_type": "code",
      "metadata": {
        "id": "8PSUM4SC_CAy"
      },
      "source": [
        "class Student(StudentBase):\n",
        "  def study(self):\n",
        "    print('공부하기')"
      ],
      "execution_count": 19,
      "outputs": []
    },
    {
      "cell_type": "code",
      "metadata": {
        "colab": {
          "base_uri": "https://localhost:8080/",
          "height": 190
        },
        "id": "XVMAF49B_Hgt",
        "outputId": "5df7dff0-6914-4b89-85e1-09b97f7a8401"
      },
      "source": [
        "james = Student()\n",
        "james.study()"
      ],
      "execution_count": 20,
      "outputs": [
        {
          "output_type": "error",
          "ename": "TypeError",
          "evalue": "ignored",
          "traceback": [
            "\u001b[0;31m---------------------------------------------------------------------------\u001b[0m",
            "\u001b[0;31mTypeError\u001b[0m                                 Traceback (most recent call last)",
            "\u001b[0;32m<ipython-input-20-5f2e5861623e>\u001b[0m in \u001b[0;36m<module>\u001b[0;34m()\u001b[0m\n\u001b[0;32m----> 1\u001b[0;31m \u001b[0mjames\u001b[0m \u001b[0;34m=\u001b[0m \u001b[0mStudent\u001b[0m\u001b[0;34m(\u001b[0m\u001b[0;34m)\u001b[0m\u001b[0;34m\u001b[0m\u001b[0;34m\u001b[0m\u001b[0m\n\u001b[0m\u001b[1;32m      2\u001b[0m \u001b[0mjames\u001b[0m\u001b[0;34m.\u001b[0m\u001b[0mstudy\u001b[0m\u001b[0;34m(\u001b[0m\u001b[0;34m)\u001b[0m\u001b[0;34m\u001b[0m\u001b[0;34m\u001b[0m\u001b[0m\n",
            "\u001b[0;31mTypeError\u001b[0m: Can't instantiate abstract class Student with abstract methods go_to_school"
          ]
        }
      ]
    },
    {
      "cell_type": "code",
      "metadata": {
        "id": "hpZm0DHE_LoA"
      },
      "source": [
        "class Student(StudentBase):\n",
        "  def study(self):\n",
        "    print('공부하기')\n",
        "  def go_to_school(self):\n",
        "    print('학교가기')"
      ],
      "execution_count": 21,
      "outputs": []
    },
    {
      "cell_type": "code",
      "metadata": {
        "colab": {
          "base_uri": "https://localhost:8080/"
        },
        "id": "nw675nhE_cLH",
        "outputId": "38da6652-17c7-40da-a658-7af23cc11a38"
      },
      "source": [
        "james = Student()\n",
        "james.study()"
      ],
      "execution_count": 22,
      "outputs": [
        {
          "output_type": "stream",
          "text": [
            "공부하기\n"
          ],
          "name": "stdout"
        }
      ]
    },
    {
      "cell_type": "code",
      "metadata": {
        "id": "Y3JWweu1_d1Y"
      },
      "source": [
        ""
      ],
      "execution_count": null,
      "outputs": []
    }
  ]
}