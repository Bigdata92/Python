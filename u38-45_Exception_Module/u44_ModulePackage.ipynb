{
  "nbformat": 4,
  "nbformat_minor": 0,
  "metadata": {
    "colab": {
      "name": "u44_ModulePackage.ipynb",
      "provenance": []
    },
    "kernelspec": {
      "name": "python3",
      "display_name": "Python 3"
    },
    "language_info": {
      "name": "python"
    }
  },
  "cells": [
    {
      "cell_type": "markdown",
      "metadata": {
        "id": "kuzVJ_-gfBcz"
      },
      "source": [
        "# Unit 44. Module, Package"
      ]
    },
    {
      "cell_type": "code",
      "metadata": {
        "colab": {
          "base_uri": "https://localhost:8080/"
        },
        "id": "ZchrdJOTe9Qw",
        "outputId": "eee2a656-4077-47a7-83a2-7d0e8bf64dbc"
      },
      "source": [
        "import math\n",
        "math.pi"
      ],
      "execution_count": 1,
      "outputs": [
        {
          "output_type": "execute_result",
          "data": {
            "text/plain": [
              "3.141592653589793"
            ]
          },
          "metadata": {
            "tags": []
          },
          "execution_count": 1
        }
      ]
    },
    {
      "cell_type": "code",
      "metadata": {
        "colab": {
          "base_uri": "https://localhost:8080/"
        },
        "id": "XBMmeYSzga11",
        "outputId": "477a038b-2c42-4baa-bf23-ba739f1a0438"
      },
      "source": [
        "math.sqrt(2), math.log2(2), math.sin(math.pi/2)"
      ],
      "execution_count": 2,
      "outputs": [
        {
          "output_type": "execute_result",
          "data": {
            "text/plain": [
              "(1.4142135623730951, 1.0, 1.0)"
            ]
          },
          "metadata": {
            "tags": []
          },
          "execution_count": 2
        }
      ]
    },
    {
      "cell_type": "code",
      "metadata": {
        "colab": {
          "base_uri": "https://localhost:8080/"
        },
        "id": "D-GbIdhdghGt",
        "outputId": "78a244c4-4383-4eb3-f62d-a24229625301"
      },
      "source": [
        "# alias\n",
        "import math as m\n",
        "round(m.pi, 4), m.log2(2), round(m.sqrt(2), 4)"
      ],
      "execution_count": 7,
      "outputs": [
        {
          "output_type": "execute_result",
          "data": {
            "text/plain": [
              "(3.1416, 1.0, 1.4142)"
            ]
          },
          "metadata": {
            "tags": []
          },
          "execution_count": 7
        }
      ]
    },
    {
      "cell_type": "code",
      "metadata": {
        "colab": {
          "base_uri": "https://localhost:8080/"
        },
        "id": "2mDgSz-tg8HX",
        "outputId": "af7e77d8-6e6c-41e9-e138-22526478aaea"
      },
      "source": [
        "# from을 통해 get func, class, global var \n",
        "from math import sqrt, pi\n",
        "round(pi, 4), round(sqrt(2), 4)"
      ],
      "execution_count": 6,
      "outputs": [
        {
          "output_type": "execute_result",
          "data": {
            "text/plain": [
              "(3.1416, 1.4142)"
            ]
          },
          "metadata": {
            "tags": []
          },
          "execution_count": 6
        }
      ]
    },
    {
      "cell_type": "code",
      "metadata": {
        "colab": {
          "base_uri": "https://localhost:8080/"
        },
        "id": "tam51TjPhzjQ",
        "outputId": "59818a90-f95c-4e89-8842-2af1b94c7a0a"
      },
      "source": [
        "# get all \n",
        "from math import *\n",
        "log2(2), sin(pi/2)"
      ],
      "execution_count": 9,
      "outputs": [
        {
          "output_type": "execute_result",
          "data": {
            "text/plain": [
              "(1.0, 1.0)"
            ]
          },
          "metadata": {
            "tags": []
          },
          "execution_count": 9
        }
      ]
    },
    {
      "cell_type": "markdown",
      "metadata": {
        "id": "ie4EmmZrjBzq"
      },
      "source": [
        "## 44.2 import package"
      ]
    },
    {
      "cell_type": "code",
      "metadata": {
        "colab": {
          "base_uri": "https://localhost:8080/"
        },
        "id": "fq9BhnPpiHWN",
        "outputId": "0fbed2c6-8717-409d-f9de-e2163b2e1421"
      },
      "source": [
        "import urllib.request\n",
        "res = urllib.request.urlopen('http://www.google.co.kr')\n",
        "res.status # 200 : ok"
      ],
      "execution_count": 10,
      "outputs": [
        {
          "output_type": "execute_result",
          "data": {
            "text/plain": [
              "200"
            ]
          },
          "metadata": {
            "tags": []
          },
          "execution_count": 10
        }
      ]
    },
    {
      "cell_type": "code",
      "metadata": {
        "colab": {
          "base_uri": "https://localhost:8080/"
        },
        "id": "hV6B5o1zjMxm",
        "outputId": "e5577849-5023-47d8-b27c-b7a2ab188ee2"
      },
      "source": [
        "res"
      ],
      "execution_count": 11,
      "outputs": [
        {
          "output_type": "execute_result",
          "data": {
            "text/plain": [
              "<http.client.HTTPResponse at 0x7fe2a66e0a10>"
            ]
          },
          "metadata": {
            "tags": []
          },
          "execution_count": 11
        }
      ]
    },
    {
      "cell_type": "code",
      "metadata": {
        "colab": {
          "base_uri": "https://localhost:8080/"
        },
        "id": "w7HNTSCFjRGv",
        "outputId": "ad842bdf-78a4-47fd-b4c7-8f26993abae8"
      },
      "source": [
        "from urllib.request import urlopen\n",
        "res = urlopen('http://www.google.co.kr')\n",
        "res.status # 200 : ok"
      ],
      "execution_count": 12,
      "outputs": [
        {
          "output_type": "execute_result",
          "data": {
            "text/plain": [
              "200"
            ]
          },
          "metadata": {
            "tags": []
          },
          "execution_count": 12
        }
      ]
    },
    {
      "cell_type": "markdown",
      "metadata": {
        "id": "hrIfWem8mFMh"
      },
      "source": [
        "- virtual environment\n",
        "- project: python 3.7, numpy, pandas\n",
        "- 대회 : ython 3.6, numpy, pandas\n",
        "- 기본환경 : ython 3.8, multiple lib\n",
        "\n",
        "- 가상환경을 만드는 프로그램 : virtualenv, Anaconda\n",
        "- conda 가상환경 만들 수 있음\n",
        "- pip install package--name : 가상환경 무시하고 install, conda 안되면 pip, ex> KoNLPy\n",
        "- conda activate vir_env\n",
        "- (vir_env) conda install package--name\n",
        "- conda install -c conda-forge package--name"
      ]
    },
    {
      "cell_type": "code",
      "metadata": {
        "id": "ASWQ36M9jr5I"
      },
      "source": [
        ""
      ],
      "execution_count": null,
      "outputs": []
    }
  ]
}