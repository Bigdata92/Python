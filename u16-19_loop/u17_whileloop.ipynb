{
  "nbformat": 4,
  "nbformat_minor": 0,
  "metadata": {
    "colab": {
      "name": "u17_whileloop.ipynb",
      "provenance": [],
      "collapsed_sections": []
    },
    "kernelspec": {
      "name": "python3",
      "display_name": "Python 3"
    },
    "language_info": {
      "name": "python"
    }
  },
  "cells": [
    {
      "cell_type": "markdown",
      "metadata": {
        "id": "2WZbp8yEA5Kf"
      },
      "source": [
        "# Unit 17. while loop"
      ]
    },
    {
      "cell_type": "markdown",
      "metadata": {
        "id": "3EEnxkcoBDsP"
      },
      "source": [
        "## 17.1 while loop\n",
        "- Do not use while in a loop with a fixed number of iterations."
      ]
    },
    {
      "cell_type": "code",
      "metadata": {
        "id": "qkA8Lm2CA2Os"
      },
      "source": [
        "while True:\n",
        "  # while the condition is true, then repeat the loop"
      ],
      "execution_count": null,
      "outputs": []
    },
    {
      "cell_type": "markdown",
      "metadata": {
        "id": "cl3iSKlFCGOH"
      },
      "source": [
        "## 17.2 while loop no repetitions"
      ]
    },
    {
      "cell_type": "code",
      "metadata": {
        "id": "DskYrGMxCUFI"
      },
      "source": [
        "import random"
      ],
      "execution_count": 3,
      "outputs": []
    },
    {
      "cell_type": "code",
      "metadata": {
        "colab": {
          "base_uri": "https://localhost:8080/"
        },
        "id": "TOdHFNP-CW7Y",
        "outputId": "6a9e4492-46a1-42f5-b2ad-9675ac3e87bd"
      },
      "source": [
        "random.random()"
      ],
      "execution_count": 4,
      "outputs": [
        {
          "output_type": "execute_result",
          "data": {
            "text/plain": [
              "0.21995023435527772"
            ]
          },
          "metadata": {
            "tags": []
          },
          "execution_count": 4
        }
      ]
    },
    {
      "cell_type": "code",
      "metadata": {
        "colab": {
          "base_uri": "https://localhost:8080/"
        },
        "id": "O7usSGlPCZNQ",
        "outputId": "62d161a8-9612-465a-9aa7-09439a95dd84"
      },
      "source": [
        "random.randint(1, 6)"
      ],
      "execution_count": 5,
      "outputs": [
        {
          "output_type": "execute_result",
          "data": {
            "text/plain": [
              "6"
            ]
          },
          "metadata": {
            "tags": []
          },
          "execution_count": 5
        }
      ]
    },
    {
      "cell_type": "code",
      "metadata": {
        "colab": {
          "base_uri": "https://localhost:8080/"
        },
        "id": "JqTZlvcCCiJ4",
        "outputId": "eef2ce40-9f02-4435-af9a-7ce83d220de2"
      },
      "source": [
        "i = 0\n",
        "while i != 3:\n",
        "  i = random.randint(1, 6)\n",
        "  print(i)"
      ],
      "execution_count": 8,
      "outputs": [
        {
          "output_type": "stream",
          "text": [
            "1\n",
            "1\n",
            "6\n",
            "5\n",
            "2\n",
            "3\n"
          ],
          "name": "stdout"
        }
      ]
    },
    {
      "cell_type": "code",
      "metadata": {
        "colab": {
          "base_uri": "https://localhost:8080/"
        },
        "id": "II38WsPKCzUq",
        "outputId": "bab89887-2346-4898-8737-02eecca3b437"
      },
      "source": [
        "i = 0\n",
        "dice = list(range(1,7))\n",
        "while i != 3:\n",
        "  i = random.choice(dice)\n",
        "  print(i)"
      ],
      "execution_count": 10,
      "outputs": [
        {
          "output_type": "stream",
          "text": [
            "1\n",
            "2\n",
            "5\n",
            "2\n",
            "5\n",
            "6\n",
            "6\n",
            "3\n"
          ],
          "name": "stdout"
        }
      ]
    },
    {
      "cell_type": "code",
      "metadata": {
        "colab": {
          "base_uri": "https://localhost:8080/"
        },
        "id": "ggc9VRaKDXiJ",
        "outputId": "2aff3bfc-e30e-4e21-d5f5-194550c48028"
      },
      "source": [
        "random.sample(dice, 6)"
      ],
      "execution_count": 13,
      "outputs": [
        {
          "output_type": "execute_result",
          "data": {
            "text/plain": [
              "[4, 3, 1, 5, 6, 2]"
            ]
          },
          "metadata": {
            "tags": []
          },
          "execution_count": 13
        }
      ]
    },
    {
      "cell_type": "code",
      "metadata": {
        "id": "naWWDt3OD4bP"
      },
      "source": [
        ""
      ],
      "execution_count": null,
      "outputs": []
    }
  ]
}