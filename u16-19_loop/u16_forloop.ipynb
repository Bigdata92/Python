{
  "nbformat": 4,
  "nbformat_minor": 0,
  "metadata": {
    "colab": {
      "name": "u16_forloop.ipynb",
      "provenance": []
    },
    "kernelspec": {
      "name": "python3",
      "display_name": "Python 3"
    },
    "language_info": {
      "name": "python"
    }
  },
  "cells": [
    {
      "cell_type": "markdown",
      "metadata": {
        "id": "B3SaFGIBtAF8"
      },
      "source": [
        "# Unit 16. for loop"
      ]
    },
    {
      "cell_type": "markdown",
      "metadata": {
        "id": "JnNFpIghtG_W"
      },
      "source": [
        "## 16.1 for and range"
      ]
    },
    {
      "cell_type": "code",
      "metadata": {
        "colab": {
          "base_uri": "https://localhost:8080/"
        },
        "id": "h4mrwDJvtFGO",
        "outputId": "45cdc642-5770-41d6-ef46-016c2b67cf76"
      },
      "source": [
        "for i in range(10):\n",
        "  print('Hello world!')"
      ],
      "execution_count": null,
      "outputs": [
        {
          "output_type": "stream",
          "text": [
            "Hello world!\n",
            "Hello world!\n",
            "Hello world!\n",
            "Hello world!\n",
            "Hello world!\n",
            "Hello world!\n",
            "Hello world!\n",
            "Hello world!\n",
            "Hello world!\n",
            "Hello world!\n"
          ],
          "name": "stdout"
        }
      ]
    },
    {
      "cell_type": "code",
      "metadata": {
        "colab": {
          "base_uri": "https://localhost:8080/"
        },
        "id": "MVxvS_ets6vd",
        "outputId": "cc29dd94-4de0-4ac5-d6a2-39897c6f5b69"
      },
      "source": [
        "for i in range(10):\n",
        "  print('Hello world!', i)"
      ],
      "execution_count": null,
      "outputs": [
        {
          "output_type": "stream",
          "text": [
            "Hello world! 0\n",
            "Hello world! 1\n",
            "Hello world! 2\n",
            "Hello world! 3\n",
            "Hello world! 4\n",
            "Hello world! 5\n",
            "Hello world! 6\n",
            "Hello world! 7\n",
            "Hello world! 8\n",
            "Hello world! 9\n"
          ],
          "name": "stdout"
        }
      ]
    },
    {
      "cell_type": "code",
      "metadata": {
        "colab": {
          "base_uri": "https://localhost:8080/"
        },
        "id": "dGVz8M6ktCIu",
        "outputId": "2d24dd8f-c2c4-41c8-b968-034dc5c4f0bc"
      },
      "source": [
        "for _ in range(5):\n",
        "  print('Hello world!')"
      ],
      "execution_count": null,
      "outputs": [
        {
          "output_type": "stream",
          "text": [
            "Hello world!\n",
            "Hello world!\n",
            "Hello world!\n",
            "Hello world!\n",
            "Hello world!\n"
          ],
          "name": "stdout"
        }
      ]
    },
    {
      "cell_type": "markdown",
      "metadata": {
        "id": "KAH0IcYNyCG4"
      },
      "source": [
        "## 16.2 for and range apply"
      ]
    },
    {
      "cell_type": "code",
      "metadata": {
        "colab": {
          "base_uri": "https://localhost:8080/"
        },
        "id": "limh4IIWvd96",
        "outputId": "15e2c2c2-4c87-430d-fbde-788e28e9860d"
      },
      "source": [
        "for i in range(6, 10):\n",
        "  print('Hello world!', i)"
      ],
      "execution_count": null,
      "outputs": [
        {
          "output_type": "stream",
          "text": [
            "Hello world! 6\n",
            "Hello world! 7\n",
            "Hello world! 8\n",
            "Hello world! 9\n"
          ],
          "name": "stdout"
        }
      ]
    },
    {
      "cell_type": "code",
      "metadata": {
        "colab": {
          "base_uri": "https://localhost:8080/"
        },
        "id": "Wgk1MS3AyRu1",
        "outputId": "070c6bf8-3276-4a4d-dd2b-4cf900c44883"
      },
      "source": [
        "for i in range(0, 10, 2):\n",
        "  print('Hello world!', i)"
      ],
      "execution_count": null,
      "outputs": [
        {
          "output_type": "stream",
          "text": [
            "Hello world! 0\n",
            "Hello world! 2\n",
            "Hello world! 4\n",
            "Hello world! 6\n",
            "Hello world! 8\n"
          ],
          "name": "stdout"
        }
      ]
    },
    {
      "cell_type": "code",
      "metadata": {
        "colab": {
          "base_uri": "https://localhost:8080/"
        },
        "id": "OOPk7zMxyVaj",
        "outputId": "a03270a2-7b88-46c3-9dd5-cf647af9aa43"
      },
      "source": [
        "for i in range(10, 0, -2):\n",
        "  print('Hello world!', i)"
      ],
      "execution_count": null,
      "outputs": [
        {
          "output_type": "stream",
          "text": [
            "Hello world! 10\n",
            "Hello world! 8\n",
            "Hello world! 6\n",
            "Hello world! 4\n",
            "Hello world! 2\n"
          ],
          "name": "stdout"
        }
      ]
    },
    {
      "cell_type": "code",
      "metadata": {
        "colab": {
          "base_uri": "https://localhost:8080/"
        },
        "id": "1oM6rcuPyYW0",
        "outputId": "a99ad469-9291-48bd-c1f6-68ac21c9ee41"
      },
      "source": [
        "for num in range(1, 101):\n",
        "  print('Fizz'*(num % 3 == 0) + 'Buzz'*(num % 5 == 0) or num, end=' ')\n",
        "  if num % 10 == 0:\n",
        "    print()"
      ],
      "execution_count": null,
      "outputs": [
        {
          "output_type": "stream",
          "text": [
            "1 2 Fizz 4 Buzz Fizz 7 8 Fizz Buzz \n",
            "11 Fizz 13 14 FizzBuzz 16 17 Fizz 19 Buzz \n",
            "Fizz 22 23 Fizz Buzz 26 Fizz 28 29 FizzBuzz \n",
            "31 32 Fizz 34 Buzz Fizz 37 38 Fizz Buzz \n",
            "41 Fizz 43 44 FizzBuzz 46 47 Fizz 49 Buzz \n",
            "Fizz 52 53 Fizz Buzz 56 Fizz 58 59 FizzBuzz \n",
            "61 62 Fizz 64 Buzz Fizz 67 68 Fizz Buzz \n",
            "71 Fizz 73 74 FizzBuzz 76 77 Fizz 79 Buzz \n",
            "Fizz 82 83 Fizz Buzz 86 Fizz 88 89 FizzBuzz \n",
            "91 92 Fizz 94 Buzz Fizz 97 98 Fizz Buzz \n"
          ],
          "name": "stdout"
        }
      ]
    },
    {
      "cell_type": "markdown",
      "metadata": {
        "id": "l5wsgqEn0DZK"
      },
      "source": [
        "## Unit 16.3 sequence object loop"
      ]
    },
    {
      "cell_type": "code",
      "metadata": {
        "colab": {
          "base_uri": "https://localhost:8080/"
        },
        "id": "U5EcokDszElY",
        "outputId": "de4c117d-5227-4e6c-8950-076b4a4d4d8b"
      },
      "source": [
        "fruits = ['apple', 'banana', 'cherry']\n",
        "for el in fruits:\n",
        "  print(el)"
      ],
      "execution_count": null,
      "outputs": [
        {
          "output_type": "stream",
          "text": [
            "apple\n",
            "banana\n",
            "cherry\n"
          ],
          "name": "stdout"
        }
      ]
    },
    {
      "cell_type": "code",
      "metadata": {
        "colab": {
          "base_uri": "https://localhost:8080/"
        },
        "id": "4NFL4ZXb0SSP",
        "outputId": "e8e98532-46e8-4a65-ea0d-67152d342367"
      },
      "source": [
        "fruits_list = ['apple', 'banana', 'cherry']\n",
        "for fruit in fruits_list:\n",
        "  print(fruit)"
      ],
      "execution_count": null,
      "outputs": [
        {
          "output_type": "stream",
          "text": [
            "apple\n",
            "banana\n",
            "cherry\n"
          ],
          "name": "stdout"
        }
      ]
    },
    {
      "cell_type": "code",
      "metadata": {
        "colab": {
          "base_uri": "https://localhost:8080/"
        },
        "id": "-4kopl2q0ght",
        "outputId": "f58705c1-bf65-48f9-a309-a5957b71af13"
      },
      "source": [
        "for letter in 'Python':\n",
        "  print(letter, end='')"
      ],
      "execution_count": null,
      "outputs": [
        {
          "output_type": "stream",
          "text": [
            "Python"
          ],
          "name": "stdout"
        }
      ]
    },
    {
      "cell_type": "code",
      "metadata": {
        "colab": {
          "base_uri": "https://localhost:8080/"
        },
        "id": "H69CWaTq2cM1",
        "outputId": "0496e8f6-86b3-45c5-d1cb-cfbd0c54b86c"
      },
      "source": [
        "for letter in reversed('Python'):\n",
        "  print(letter, end='')"
      ],
      "execution_count": null,
      "outputs": [
        {
          "output_type": "stream",
          "text": [
            "nohtyP"
          ],
          "name": "stdout"
        }
      ]
    },
    {
      "cell_type": "code",
      "metadata": {
        "colab": {
          "base_uri": "https://localhost:8080/"
        },
        "id": "xrVXBCjg57Fx",
        "outputId": "cd401d31-6244-4898-85f2-3396f1ecd874"
      },
      "source": [
        "for char in reversed('Python'):\n",
        "  print(char, end='')"
      ],
      "execution_count": null,
      "outputs": [
        {
          "output_type": "stream",
          "text": [
            "nohtyP"
          ],
          "name": "stdout"
        }
      ]
    },
    {
      "cell_type": "code",
      "metadata": {
        "colab": {
          "base_uri": "https://localhost:8080/"
        },
        "id": "D5K_J-Dq2uGe",
        "outputId": "57024b89-fed2-411f-ef8b-eae2e5ce8679"
      },
      "source": [
        "for number in (10, 20, 30):\n",
        "  print(number)"
      ],
      "execution_count": null,
      "outputs": [
        {
          "output_type": "stream",
          "text": [
            "10\n",
            "20\n",
            "30\n"
          ],
          "name": "stdout"
        }
      ]
    },
    {
      "cell_type": "markdown",
      "metadata": {
        "id": "dN2FtRYi3jSu"
      },
      "source": [
        "### Perfect Number"
      ]
    },
    {
      "cell_type": "code",
      "metadata": {
        "colab": {
          "base_uri": "https://localhost:8080/"
        },
        "id": "Yo4UcUJy3AmQ",
        "outputId": "b5b09c76-1d98-48f4-be7c-67b3b874521a"
      },
      "source": [
        "# 자기 자신을 제외한 약수의 합이 자기 자신과 같을 때\n",
        "\n",
        "for num in range(1, 10001):\n",
        "  sum = 0\n",
        "  for i in range(1, num):\n",
        "    if num % i == 0:\n",
        "      sum += i\n",
        "  if num == sum:\n",
        "    print(num)"
      ],
      "execution_count": null,
      "outputs": [
        {
          "output_type": "stream",
          "text": [
            "6\n",
            "28\n",
            "496\n",
            "8128\n"
          ],
          "name": "stdout"
        }
      ]
    },
    {
      "cell_type": "code",
      "metadata": {
        "id": "IAu7mpoU4gty"
      },
      "source": [
        ""
      ],
      "execution_count": null,
      "outputs": []
    }
  ]
}