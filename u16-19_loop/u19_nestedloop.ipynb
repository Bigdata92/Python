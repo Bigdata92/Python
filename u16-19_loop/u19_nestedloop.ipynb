{
  "nbformat": 4,
  "nbformat_minor": 0,
  "metadata": {
    "colab": {
      "name": "u19_nestedloop.ipynb",
      "provenance": [],
      "collapsed_sections": []
    },
    "kernelspec": {
      "name": "python3",
      "display_name": "Python 3"
    },
    "language_info": {
      "name": "python"
    }
  },
  "cells": [
    {
      "cell_type": "markdown",
      "metadata": {
        "id": "tfWlqAiybob8"
      },
      "source": [
        "# Unit 19. Nested loop"
      ]
    },
    {
      "cell_type": "markdown",
      "metadata": {
        "id": "mE2nRtmLbwtK"
      },
      "source": [
        "## 19.1 Nested for loop"
      ]
    },
    {
      "cell_type": "code",
      "metadata": {
        "colab": {
          "base_uri": "https://localhost:8080/"
        },
        "id": "2hY9Bo1ObjHo",
        "outputId": "e82dd625-4294-406f-cc61-4c713ee063f5"
      },
      "source": [
        "for i in range(1, 6):\n",
        "  for k in range(10, 60, 10):\n",
        "    print(k, end = ' ')\n",
        "  print(i)"
      ],
      "execution_count": 2,
      "outputs": [
        {
          "output_type": "stream",
          "text": [
            "10 20 30 40 50 1\n",
            "10 20 30 40 50 2\n",
            "10 20 30 40 50 3\n",
            "10 20 30 40 50 4\n",
            "10 20 30 40 50 5\n"
          ],
          "name": "stdout"
        }
      ]
    },
    {
      "cell_type": "markdown",
      "metadata": {
        "id": "kYmoJLrOcueR"
      },
      "source": [
        "## 19.2 star square"
      ]
    },
    {
      "cell_type": "code",
      "metadata": {
        "colab": {
          "base_uri": "https://localhost:8080/"
        },
        "id": "R3rzxpHgbvnY",
        "outputId": "5fd04ef9-fda5-49fc-8df5-e681d055261f"
      },
      "source": [
        "for _ in range(5):\n",
        "  for _ in range(5):\n",
        "    print('*', end='')\n",
        "  print()"
      ],
      "execution_count": 5,
      "outputs": [
        {
          "output_type": "stream",
          "text": [
            "*****\n",
            "*****\n",
            "*****\n",
            "*****\n",
            "*****\n"
          ],
          "name": "stdout"
        }
      ]
    },
    {
      "cell_type": "code",
      "metadata": {
        "colab": {
          "base_uri": "https://localhost:8080/"
        },
        "id": "Ya5GgnKgbzmD",
        "outputId": "a0c6d1bb-aeee-42ce-a470-9cc8868b2520"
      },
      "source": [
        "# # Parallelogram(평행사변형)\n",
        "for i in range(4):\n",
        "  for _ in range(0, i):\n",
        "    print(' ', end='')\n",
        "  for _ in range(5):\n",
        "    print('*', end='')\n",
        "  print()"
      ],
      "execution_count": 8,
      "outputs": [
        {
          "output_type": "stream",
          "text": [
            "*****\n",
            " *****\n",
            "  *****\n",
            "   *****\n"
          ],
          "name": "stdout"
        }
      ]
    },
    {
      "cell_type": "code",
      "metadata": {
        "colab": {
          "base_uri": "https://localhost:8080/"
        },
        "id": "NspbhUd-dAJk",
        "outputId": "ac3fb54e-324b-4e21-ec29-c4425ecdbc69"
      },
      "source": [
        "for i in range(4):\n",
        "  print(' '* i, '*'*5, sep='')"
      ],
      "execution_count": 9,
      "outputs": [
        {
          "output_type": "stream",
          "text": [
            "*****\n",
            " *****\n",
            "  *****\n",
            "   *****\n"
          ],
          "name": "stdout"
        }
      ]
    },
    {
      "cell_type": "markdown",
      "metadata": {
        "id": "aLu-Ka5nfN-i"
      },
      "source": [
        "## 19.3 step star shape"
      ]
    },
    {
      "cell_type": "code",
      "metadata": {
        "colab": {
          "base_uri": "https://localhost:8080/"
        },
        "id": "xVSBEWlofHk7",
        "outputId": "4d7e03eb-671e-4bd3-9541-74e1a77d6d7b"
      },
      "source": [
        "for i in range(5):\n",
        "  for _ in range(i+1):\n",
        "    print('*', end='')\n",
        "  print()"
      ],
      "execution_count": 10,
      "outputs": [
        {
          "output_type": "stream",
          "text": [
            "*\n",
            "**\n",
            "***\n",
            "****\n",
            "*****\n"
          ],
          "name": "stdout"
        }
      ]
    },
    {
      "cell_type": "code",
      "metadata": {
        "colab": {
          "base_uri": "https://localhost:8080/"
        },
        "id": "nxm3du1Ug0eH",
        "outputId": "8ca03783-ea7a-4405-a4d9-4c4c90eeec7f"
      },
      "source": [
        "for i in range(5):\n",
        "  print('*'* (i+1),)"
      ],
      "execution_count": 19,
      "outputs": [
        {
          "output_type": "stream",
          "text": [
            "*\n",
            "**\n",
            "***\n",
            "****\n",
            "*****\n"
          ],
          "name": "stdout"
        }
      ]
    },
    {
      "cell_type": "code",
      "metadata": {
        "colab": {
          "base_uri": "https://localhost:8080/"
        },
        "id": "n0fJqUo8f0QC",
        "outputId": "d42289e9-edb9-49d0-ff1a-614e5489a51f"
      },
      "source": [
        "for i in range(5):\n",
        "  for _ in range(i):\n",
        "    print(' ', end='')\n",
        "  for _ in range(5-i):\n",
        "    print('*', end='')  \n",
        "  print()"
      ],
      "execution_count": 15,
      "outputs": [
        {
          "output_type": "stream",
          "text": [
            "*****\n",
            " ****\n",
            "  ***\n",
            "   **\n",
            "    *\n"
          ],
          "name": "stdout"
        }
      ]
    },
    {
      "cell_type": "code",
      "metadata": {
        "colab": {
          "base_uri": "https://localhost:8080/"
        },
        "id": "k0x7pQYggEwa",
        "outputId": "7f756a31-d43b-4ffc-858a-3e2ba237aa01"
      },
      "source": [
        "for i in range(5):\n",
        "  print(' ' * i, '*' * (5-i), sep='')"
      ],
      "execution_count": 20,
      "outputs": [
        {
          "output_type": "stream",
          "text": [
            "*****\n",
            " ****\n",
            "  ***\n",
            "   **\n",
            "    *\n"
          ],
          "name": "stdout"
        }
      ]
    },
    {
      "cell_type": "code",
      "metadata": {
        "colab": {
          "base_uri": "https://localhost:8080/"
        },
        "id": "pEmZounIhRj2",
        "outputId": "3558577f-2bb3-424b-a031-304ee77a13ae"
      },
      "source": [
        "for i in range(5):\n",
        "  print(' ' * (4-i),'*' * (2*i+1), sep='')\n",
        "for i in range(5):\n",
        "  print(' ' * (i+1),'*' * (7-2*i), sep='')"
      ],
      "execution_count": 36,
      "outputs": [
        {
          "output_type": "stream",
          "text": [
            "    *\n",
            "   ***\n",
            "  *****\n",
            " *******\n",
            "*********\n",
            " *******\n",
            "  *****\n",
            "   ***\n",
            "    *\n",
            "     \n"
          ],
          "name": "stdout"
        }
      ]
    },
    {
      "cell_type": "code",
      "metadata": {
        "colab": {
          "base_uri": "https://localhost:8080/"
        },
        "id": "cP-hYT0ehxIO",
        "outputId": "9e3aae7e-097a-4259-a68e-e0f3f7f3aa3b"
      },
      "source": [
        "for i in range(-4, 5):\n",
        "  print(' ' * (abs(i)),'*' * (-2*abs(i)+9), sep='')"
      ],
      "execution_count": 49,
      "outputs": [
        {
          "output_type": "stream",
          "text": [
            "    *\n",
            "   ***\n",
            "  *****\n",
            " *******\n",
            "*********\n",
            " *******\n",
            "  *****\n",
            "   ***\n",
            "    *\n"
          ],
          "name": "stdout"
        }
      ]
    },
    {
      "cell_type": "code",
      "metadata": {
        "id": "r0a1h5Glj_rZ"
      },
      "source": [
        ""
      ],
      "execution_count": null,
      "outputs": []
    }
  ]
}