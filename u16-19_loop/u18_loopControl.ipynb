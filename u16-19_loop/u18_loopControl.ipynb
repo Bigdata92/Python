{
  "nbformat": 4,
  "nbformat_minor": 0,
  "metadata": {
    "colab": {
      "name": "u18_loopControl.ipynb",
      "provenance": []
    },
    "kernelspec": {
      "name": "python3",
      "display_name": "Python 3"
    },
    "language_info": {
      "name": "python"
    }
  },
  "cells": [
    {
      "cell_type": "markdown",
      "metadata": {
        "id": "-HMNLKgQEv5n"
      },
      "source": [
        "# Unit 18. break, continue"
      ]
    },
    {
      "cell_type": "markdown",
      "metadata": {
        "id": "2aAk3S88E1qY"
      },
      "source": [
        "## 18.1 end loop with break"
      ]
    },
    {
      "cell_type": "code",
      "metadata": {
        "id": "Nq6FxcbsErop"
      },
      "source": [
        "import random"
      ],
      "execution_count": null,
      "outputs": []
    },
    {
      "cell_type": "code",
      "metadata": {
        "colab": {
          "base_uri": "https://localhost:8080/"
        },
        "id": "1_czqtDvFApF",
        "outputId": "6e217a9d-9f50-4dd3-ad67-f821bfbacdfc"
      },
      "source": [
        "while True:\n",
        "  i = random.randint(1, 6)\n",
        "  print(i)\n",
        "  if i == 3:\n",
        "    break"
      ],
      "execution_count": null,
      "outputs": [
        {
          "output_type": "stream",
          "text": [
            "5\n",
            "1\n",
            "1\n",
            "2\n",
            "4\n",
            "1\n",
            "2\n",
            "1\n",
            "6\n",
            "3\n"
          ],
          "name": "stdout"
        }
      ]
    },
    {
      "cell_type": "code",
      "metadata": {
        "colab": {
          "base_uri": "https://localhost:8080/"
        },
        "id": "LzCRrrlFFOJg",
        "outputId": "32bb2f60-1cf7-4391-84b6-d913504bc7b2"
      },
      "source": [
        "for i in range(5):\n",
        "  print(i, end=' ')\n",
        "  for k in range(5):\n",
        "    print('*', end='')\n",
        "    if i==k:\n",
        "      break\n",
        "  print()"
      ],
      "execution_count": 4,
      "outputs": [
        {
          "output_type": "stream",
          "text": [
            "0 *\n",
            "1 **\n",
            "2 ***\n",
            "3 ****\n",
            "4 *****\n"
          ],
          "name": "stdout"
        }
      ]
    },
    {
      "cell_type": "markdown",
      "metadata": {
        "id": "ZZoeW0MnGo67"
      },
      "source": [
        "## 18.2 continue"
      ]
    },
    {
      "cell_type": "code",
      "metadata": {
        "id": "4YfLlii9F-rp",
        "colab": {
          "base_uri": "https://localhost:8080/"
        },
        "outputId": "736f0607-8448-4fa6-d3a7-ddccf7fb76f3"
      },
      "source": [
        "for i in range(10):\n",
        "  if i % 2 == 0:\n",
        "    continue\n",
        "  print(i)"
      ],
      "execution_count": 5,
      "outputs": [
        {
          "output_type": "stream",
          "text": [
            "1\n",
            "3\n",
            "5\n",
            "7\n",
            "9\n"
          ],
          "name": "stdout"
        }
      ]
    },
    {
      "cell_type": "code",
      "metadata": {
        "id": "D7ceG-ObG7UI"
      },
      "source": [
        ""
      ],
      "execution_count": null,
      "outputs": []
    }
  ]
}