{
  "nbformat": 4,
  "nbformat_minor": 0,
  "metadata": {
    "colab": {
      "name": "5회차_송지섭.ipynb",
      "provenance": [],
      "collapsed_sections": []
    },
    "kernelspec": {
      "name": "python3",
      "display_name": "Python 3"
    },
    "language_info": {
      "name": "python"
    }
  },
  "cells": [
    {
      "cell_type": "markdown",
      "metadata": {
        "id": "oSuBB4bzv1_a"
      },
      "source": [
        "# Q 8"
      ]
    },
    {
      "cell_type": "code",
      "metadata": {
        "colab": {
          "base_uri": "https://localhost:8080/"
        },
        "id": "otyJA40Av-f0",
        "outputId": "79eb4a05-df38-42a5-b9b9-dae3426c5693"
      },
      "source": [
        "kor, eng, mat, sci = map(int, input().split())\n",
        "\n",
        "if kor >= 90 and eng > 80 and mat > 85 and sci >= 80:\n",
        "  print('True')\n",
        "else:\n",
        "  print('False')"
      ],
      "execution_count": null,
      "outputs": [
        {
          "output_type": "stream",
          "text": [
            "90 80 85 80\n",
            "False\n"
          ],
          "name": "stdout"
        }
      ]
    },
    {
      "cell_type": "markdown",
      "metadata": {
        "id": "L3HSI43bv1_b"
      },
      "source": [
        "# Q 9"
      ]
    },
    {
      "cell_type": "code",
      "metadata": {
        "id": "njjP7qm3v_M4"
      },
      "source": [
        "s = '''\\'Python\\' is a \\\"programming language\\\"\n",
        "that lets you work quickly\n",
        "and\n",
        "integrate systems more effectively.'''"
      ],
      "execution_count": null,
      "outputs": []
    },
    {
      "cell_type": "markdown",
      "metadata": {
        "id": "KSaEir6TvxLk"
      },
      "source": [
        "# Q 10"
      ]
    },
    {
      "cell_type": "code",
      "metadata": {
        "id": "4Q2oPk3ev_sI",
        "colab": {
          "base_uri": "https://localhost:8080/"
        },
        "outputId": "514219ad-350d-42f9-ed4e-142e32c03cdb"
      },
      "source": [
        "a = int(input())\n",
        "tup = tuple(range(-10, 10, a))\n",
        "print(tup)"
      ],
      "execution_count": null,
      "outputs": [
        {
          "output_type": "stream",
          "text": [
            "2\n",
            "(-10, -8, -6, -4, -2, 0, 2, 4, 6, 8)\n"
          ],
          "name": "stdout"
        }
      ]
    },
    {
      "cell_type": "markdown",
      "metadata": {
        "id": "sUWUBsQ-vhvF"
      },
      "source": [
        "# Q 11.8"
      ]
    },
    {
      "cell_type": "code",
      "metadata": {
        "id": "FU1mZmqzvdO8",
        "colab": {
          "base_uri": "https://localhost:8080/"
        },
        "outputId": "b0233450-60b1-4dca-c6d4-e23c85cff98b"
      },
      "source": [
        "del(x[-5:])\n",
        "print(tuple(x))"
      ],
      "execution_count": null,
      "outputs": [
        {
          "output_type": "stream",
          "text": [
            "oven bat pony total leak wreck curl crop space navy loss knee\n",
            "['oven', 'bat', 'pony', 'total', 'leak', 'wreck', 'curl']\n"
          ],
          "name": "stdout"
        }
      ]
    },
    {
      "cell_type": "markdown",
      "metadata": {
        "id": "3PeY-1luH8Nh"
      },
      "source": [
        "# Q 11.9"
      ]
    },
    {
      "cell_type": "code",
      "metadata": {
        "colab": {
          "base_uri": "https://localhost:8080/"
        },
        "id": "AVxseWrnH65b",
        "outputId": "e97ef8d9-6b46-4800-9de6-74e4c54ed4c1"
      },
      "source": [
        "x, y = input(), input()\n",
        "str1 = x[1:len(x):2] + y[:len(y):2]\n",
        "print(str1)"
      ],
      "execution_count": null,
      "outputs": [
        {
          "output_type": "stream",
          "text": [
            "apple\n",
            "strawberry\n",
            "plsrwer\n"
          ],
          "name": "stdout"
        }
      ]
    },
    {
      "cell_type": "markdown",
      "metadata": {
        "id": "kY7nL65Jvr2x"
      },
      "source": [
        "# Q 12\n"
      ]
    },
    {
      "cell_type": "code",
      "metadata": {
        "id": "qSOcGMsnv5ew",
        "colab": {
          "base_uri": "https://localhost:8080/"
        },
        "outputId": "27f0b357-a71f-465f-ad0b-3014143633f5"
      },
      "source": [
        "x = input().split()\n",
        "y = map(float, input().split()) \n",
        "dic = dict(zip(x, y))\n",
        "print(dic)"
      ],
      "execution_count": null,
      "outputs": [
        {
          "output_type": "stream",
          "text": [
            "health health_regen mana mana_regen\n",
            "575.6 1.7 338.8 1.63\n",
            "{'health': 575.6, 'health_regen': 1.7, 'mana': 338.8, 'mana_regen': 1.63}\n"
          ],
          "name": "stdout"
        }
      ]
    },
    {
      "cell_type": "markdown",
      "metadata": {
        "id": "-ShhMZQbv7RE"
      },
      "source": [
        "# Q 13"
      ]
    },
    {
      "cell_type": "code",
      "metadata": {
        "id": "lYhl8_ciwAXS",
        "colab": {
          "base_uri": "https://localhost:8080/"
        },
        "outputId": "10cd5dff-b1a3-4d6e-cf9e-52995ec7fe87"
      },
      "source": [
        "x = int(input())\n",
        "y = input()\n",
        "if y == 'Cash3000':\n",
        "  print(x-3000)\n",
        "else:\n",
        "  if y == 'Cash5000':\n",
        "    print(x-5000)"
      ],
      "execution_count": null,
      "outputs": [
        {
          "output_type": "stream",
          "text": [
            "72000\n",
            "Cash5000\n",
            "67000\n"
          ],
          "name": "stdout"
        }
      ]
    },
    {
      "cell_type": "markdown",
      "metadata": {
        "id": "LootSY5Fv7RG"
      },
      "source": [
        "# Q 14"
      ]
    },
    {
      "cell_type": "code",
      "metadata": {
        "id": "IRi825v5wA1T",
        "colab": {
          "base_uri": "https://localhost:8080/"
        },
        "outputId": "a7b02b7f-a794-454d-ea10-c35cc2fdbb29"
      },
      "source": [
        "kor, eng, mat, sci = map(int, input().split())\n",
        "if kor < 0 or kor > 100 or eng < 0 or eng > 100 or mat < 0 or mat > 100 or sci < 0 or sci > 100:\n",
        "  print('잘못된 점수')\n",
        "else:\n",
        "  if (kor + eng + mat + sci) / 4 >= 80:\n",
        "    print('합격')\n",
        "  else:\n",
        "    print('불합격')"
      ],
      "execution_count": null,
      "outputs": [
        {
          "output_type": "stream",
          "text": [
            "99 85 101 90\n",
            "잘못된 점수\n"
          ],
          "name": "stdout"
        }
      ]
    },
    {
      "cell_type": "code",
      "metadata": {
        "id": "IzURELgyHfBV"
      },
      "source": [
        ""
      ],
      "execution_count": null,
      "outputs": []
    }
  ]
}