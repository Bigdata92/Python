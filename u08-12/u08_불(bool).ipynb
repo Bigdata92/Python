{
  "nbformat": 4,
  "nbformat_minor": 2,
  "metadata": {
    "colab": {
      "name": "u08_불.ipynb",
      "provenance": [],
      "collapsed_sections": []
    },
    "kernelspec": {
      "name": "python3",
      "display_name": "Python 3"
    },
    "language_info": {
      "name": "python"
    }
  },
  "cells": [
    {
      "cell_type": "markdown",
      "source": [
        "# Unit 8. 불과 비교/논리 연산자"
      ],
      "metadata": {
        "id": "xsF7hQGsea40"
      }
    },
    {
      "cell_type": "markdown",
      "source": [
        "## 8.1 불(Bool)과 비교연산자"
      ],
      "metadata": {
        "id": "cvn-zHQzehhS"
      }
    },
    {
      "cell_type": "code",
      "execution_count": 1,
      "source": [
        "True, False"
      ],
      "outputs": [
        {
          "output_type": "execute_result",
          "data": {
            "text/plain": [
              "(True, False)"
            ]
          },
          "metadata": {
            "tags": []
          },
          "execution_count": 1
        }
      ],
      "metadata": {
        "colab": {
          "base_uri": "https://localhost:8080/"
        },
        "id": "k09DRbPweaC3",
        "outputId": "60c28b30-79dd-450d-e33a-20f42c5e648e"
      }
    },
    {
      "cell_type": "code",
      "execution_count": 2,
      "source": [
        "# >, >=, <, <=, ==, !=\n",
        "10 >= 5"
      ],
      "outputs": [
        {
          "output_type": "execute_result",
          "data": {
            "text/plain": [
              "True"
            ]
          },
          "metadata": {
            "tags": []
          },
          "execution_count": 2
        }
      ],
      "metadata": {
        "colab": {
          "base_uri": "https://localhost:8080/"
        },
        "id": "gWDpqfghe7MM",
        "outputId": "8b12fdd1-c8af-4366-97bb-7be95664fb76"
      }
    },
    {
      "cell_type": "code",
      "execution_count": 3,
      "source": [
        "a = 10 != 5\n",
        "a"
      ],
      "outputs": [
        {
          "output_type": "execute_result",
          "data": {
            "text/plain": [
              "True"
            ]
          },
          "metadata": {
            "tags": []
          },
          "execution_count": 3
        }
      ],
      "metadata": {
        "colab": {
          "base_uri": "https://localhost:8080/"
        },
        "id": "Pt60VrePfxbz",
        "outputId": "14b58ff5-f0cd-437c-e27c-dfc5f06b81c4"
      }
    },
    {
      "cell_type": "code",
      "execution_count": 4,
      "source": [
        "'Python' == 'python'"
      ],
      "outputs": [
        {
          "output_type": "execute_result",
          "data": {
            "text/plain": [
              "False"
            ]
          },
          "metadata": {
            "tags": []
          },
          "execution_count": 4
        }
      ],
      "metadata": {
        "colab": {
          "base_uri": "https://localhost:8080/"
        },
        "id": "GyqgWH4bgDgl",
        "outputId": "ffe15a70-9270-4d63-9dd7-a78abb4bf039"
      }
    },
    {
      "cell_type": "markdown",
      "source": [
        "## 8.2 논리연산자\n",
        "- and, or, not"
      ],
      "metadata": {
        "id": "FdANki-bgid4"
      }
    },
    {
      "cell_type": "code",
      "execution_count": 5,
      "source": [
        "not True and False or not False"
      ],
      "outputs": [
        {
          "output_type": "execute_result",
          "data": {
            "text/plain": [
              "True"
            ]
          },
          "metadata": {
            "tags": []
          },
          "execution_count": 5
        }
      ],
      "metadata": {
        "colab": {
          "base_uri": "https://localhost:8080/"
        },
        "id": "Nk0uCUVWgMww",
        "outputId": "2075a7c7-dbbb-45e9-9ff4-71c0bf3fa645"
      }
    },
    {
      "cell_type": "code",
      "execution_count": 6,
      "source": [
        "((not True) and False) or (not False)"
      ],
      "outputs": [
        {
          "output_type": "execute_result",
          "data": {
            "text/plain": [
              "True"
            ]
          },
          "metadata": {
            "tags": []
          },
          "execution_count": 6
        }
      ],
      "metadata": {
        "colab": {
          "base_uri": "https://localhost:8080/"
        },
        "id": "ZhW7PZIukGEO",
        "outputId": "4dddb4ed-54c4-4db4-81a6-1655f1b31331"
      }
    },
    {
      "cell_type": "code",
      "execution_count": 7,
      "source": [
        "# x > 10, x < 5\r\n",
        "x = 6\r\n",
        "x > 10 or x < 5"
      ],
      "outputs": [
        {
          "output_type": "execute_result",
          "data": {
            "text/plain": [
              "False"
            ]
          },
          "metadata": {
            "tags": []
          },
          "execution_count": 7
        }
      ],
      "metadata": {
        "colab": {
          "base_uri": "https://localhost:8080/"
        },
        "id": "WwHZbZLjkOfZ",
        "outputId": "5dd2d078-c869-4851-f4b2-cb9a624bc6ba"
      }
    },
    {
      "cell_type": "code",
      "execution_count": 8,
      "source": [
        "# 5 < x < 10\r\n",
        "x > 5 and x < 10"
      ],
      "outputs": [
        {
          "output_type": "execute_result",
          "data": {
            "text/plain": [
              "True"
            ]
          },
          "metadata": {
            "tags": []
          },
          "execution_count": 8
        }
      ],
      "metadata": {
        "colab": {
          "base_uri": "https://localhost:8080/"
        },
        "id": "0UcZ6f_7kiHm",
        "outputId": "a9e481b9-2df5-40eb-d9dd-cafaa931fc41"
      }
    },
    {
      "cell_type": "code",
      "execution_count": 9,
      "source": [
        "# 파이썬에서만 쓸 수 있는 표현\r\n",
        "5 < x < 10"
      ],
      "outputs": [
        {
          "output_type": "execute_result",
          "data": {
            "text/plain": [
              "True"
            ]
          },
          "metadata": {
            "tags": []
          },
          "execution_count": 9
        }
      ],
      "metadata": {
        "colab": {
          "base_uri": "https://localhost:8080/"
        },
        "id": "MSwUyRwvkrZJ",
        "outputId": "e322a99e-98af-4e20-eb0b-82ee2ebfa1fe"
      }
    },
    {
      "cell_type": "markdown",
      "source": [
        "### 정수, 실수, 문자열"
      ],
      "metadata": {
        "id": "YKPtJIG9lFXW"
      }
    },
    {
      "cell_type": "code",
      "execution_count": 12,
      "source": [
        "bool(0), bool(1), bool(4)"
      ],
      "outputs": [
        {
          "output_type": "execute_result",
          "data": {
            "text/plain": [
              "(False, True, True)"
            ]
          },
          "metadata": {
            "tags": []
          },
          "execution_count": 12
        }
      ],
      "metadata": {
        "colab": {
          "base_uri": "https://localhost:8080/"
        },
        "id": "MnUh1Qjdkufq",
        "outputId": "fb3c3ebc-db6f-4d81-9dda-9f9d1529ef65"
      }
    },
    {
      "cell_type": "code",
      "execution_count": 13,
      "source": [
        "bool(0.0), bool(1.), bool(-4.)"
      ],
      "outputs": [
        {
          "output_type": "execute_result",
          "data": {
            "text/plain": [
              "(False, True, True)"
            ]
          },
          "metadata": {
            "tags": []
          },
          "execution_count": 13
        }
      ],
      "metadata": {
        "colab": {
          "base_uri": "https://localhost:8080/"
        },
        "id": "ZGlWQI0llQYs",
        "outputId": "2708bc43-9ac4-41cc-ece8-26f2580589b7"
      }
    },
    {
      "cell_type": "code",
      "execution_count": 14,
      "source": [
        "bool(''), bool('s')"
      ],
      "outputs": [
        {
          "output_type": "execute_result",
          "data": {
            "text/plain": [
              "(False, True)"
            ]
          },
          "metadata": {
            "tags": []
          },
          "execution_count": 14
        }
      ],
      "metadata": {
        "colab": {
          "base_uri": "https://localhost:8080/"
        },
        "id": "4W3M6UJPldtI",
        "outputId": "6b744eee-8c47-46c8-9662-f41716b90c97"
      }
    },
    {
      "cell_type": "code",
      "execution_count": 16,
      "source": [
        "if 4:\r\n",
        "    print('4 is True')"
      ],
      "outputs": [
        {
          "output_type": "stream",
          "name": "stdout",
          "text": [
            "4 is True\n"
          ]
        }
      ],
      "metadata": {
        "colab": {
          "base_uri": "https://localhost:8080/"
        },
        "id": "Mn6HgOv7llkq",
        "outputId": "29e74ea0-502e-4309-9489-c9b43ca55577"
      }
    },
    {
      "cell_type": "code",
      "execution_count": 17,
      "source": [
        "int(True), int(False)"
      ],
      "outputs": [
        {
          "output_type": "execute_result",
          "data": {
            "text/plain": [
              "(1, 0)"
            ]
          },
          "metadata": {
            "tags": []
          },
          "execution_count": 17
        }
      ],
      "metadata": {
        "colab": {
          "base_uri": "https://localhost:8080/"
        },
        "id": "7eBHJMKNlrZz",
        "outputId": "5b67f730-a7f5-4200-daf5-5a54b198f913"
      }
    },
    {
      "cell_type": "markdown",
      "source": [
        "### Short-circuit evaluation"
      ],
      "metadata": {
        "id": "QoskG4YhmoLZ"
      }
    },
    {
      "cell_type": "code",
      "execution_count": 18,
      "source": [
        "1 or 'python'"
      ],
      "outputs": [
        {
          "output_type": "execute_result",
          "data": {
            "text/plain": [
              "1"
            ]
          },
          "metadata": {
            "tags": []
          },
          "execution_count": 18
        }
      ],
      "metadata": {
        "colab": {
          "base_uri": "https://localhost:8080/"
        },
        "id": "2M_PXnall-Zp",
        "outputId": "364a9ed3-2a2f-40e6-f4c6-b526cf0830e8"
      }
    },
    {
      "cell_type": "code",
      "execution_count": 19,
      "source": [
        "0 or 'python'"
      ],
      "outputs": [
        {
          "output_type": "execute_result",
          "data": {
            "text/plain": [
              "'python'"
            ],
            "application/vnd.google.colaboratory.intrinsic+json": {
              "type": "string"
            }
          },
          "metadata": {
            "tags": []
          },
          "execution_count": 19
        }
      ],
      "metadata": {
        "colab": {
          "base_uri": "https://localhost:8080/",
          "height": 35
        },
        "id": "nYv_-jykmQYW",
        "outputId": "0c6a6920-28ee-477f-9c17-ff75bfa2b002"
      }
    },
    {
      "cell_type": "code",
      "execution_count": 20,
      "source": [
        "1 and 'python'"
      ],
      "outputs": [
        {
          "output_type": "execute_result",
          "data": {
            "text/plain": [
              "'python'"
            ],
            "application/vnd.google.colaboratory.intrinsic+json": {
              "type": "string"
            }
          },
          "metadata": {
            "tags": []
          },
          "execution_count": 20
        }
      ],
      "metadata": {
        "colab": {
          "base_uri": "https://localhost:8080/",
          "height": 35
        },
        "id": "poQemyvYmWmn",
        "outputId": "e1942ed1-977c-4d8d-9c21-68f09eda370d"
      }
    },
    {
      "cell_type": "code",
      "execution_count": 21,
      "source": [
        "0 and 'python'"
      ],
      "outputs": [
        {
          "output_type": "execute_result",
          "data": {
            "text/plain": [
              "0"
            ]
          },
          "metadata": {
            "tags": []
          },
          "execution_count": 21
        }
      ],
      "metadata": {
        "colab": {
          "base_uri": "https://localhost:8080/"
        },
        "id": "eB70uW-Nmfm6",
        "outputId": "e7c8cc74-03bc-444e-c997-2a92015f5a50"
      }
    }
  ]
}