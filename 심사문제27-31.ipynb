{
  "nbformat": 4,
  "nbformat_minor": 0,
  "metadata": {
    "colab": {
      "name": "심사문제27-31.ipynb",
      "provenance": [],
      "collapsed_sections": []
    },
    "kernelspec": {
      "name": "python3",
      "display_name": "Python 3"
    },
    "language_info": {
      "name": "python"
    }
  },
  "cells": [
    {
      "cell_type": "markdown",
      "metadata": {
        "id": "Nrw-sEgJHExj"
      },
      "source": [
        "# Q27"
      ]
    },
    {
      "cell_type": "code",
      "metadata": {
        "id": "a6WdspGEImS8"
      },
      "source": [
        "file = open('words.txt', 'w')\n",
        "file.write('Fortunately, however, for the reputation of Asteroid B-612, a Turkish dictator made a law that his subjects, under pain of death, should change to European costume. So in 1920 the astronomer gave his demonstration all over again, dressed with impressive style and elegance. And this time everybody accepted his report.')\n",
        "file.close()"
      ],
      "execution_count": null,
      "outputs": []
    },
    {
      "cell_type": "code",
      "metadata": {
        "colab": {
          "base_uri": "https://localhost:8080/"
        },
        "id": "K5UE0EV2HAII",
        "outputId": "3b457b9c-50ba-4e94-9551-2fc211390efe"
      },
      "source": [
        "with open('words.txt', 'r') as file:\n",
        "  tmp = 0\n",
        "  for i in file:\n",
        "    tmp = i.split()\n",
        "for i in tmp:\n",
        "  if 'c' in i:\n",
        "    print(i.strip(',.'))"
      ],
      "execution_count": null,
      "outputs": [
        {
          "output_type": "stream",
          "text": [
            "dictator\n",
            "subjects\n",
            "change\n",
            "costume\n",
            "elegance\n",
            "accepted\n"
          ],
          "name": "stdout"
        }
      ]
    },
    {
      "cell_type": "markdown",
      "metadata": {
        "id": "oYa4OwpYHHyG"
      },
      "source": [
        "# Q29"
      ]
    },
    {
      "cell_type": "code",
      "metadata": {
        "colab": {
          "base_uri": "https://localhost:8080/"
        },
        "id": "r5nCIxfMHHyH",
        "outputId": "d9b13ca5-0373-4d93-bf4c-50783c3cd66c"
      },
      "source": [
        "x, y = map(int, input().split())\n",
        "\n",
        "def calc(x, y):\n",
        "  return x + y, x - y, x * y, x / y\n",
        "\n",
        "a, s, m, d = calc(x, y)\n",
        "print('덧셈: {0}, 뺄셈: {1}, 곱셈: {2}, 나눗셈: {3}'.format(a, s, m, d))"
      ],
      "execution_count": null,
      "outputs": [
        {
          "output_type": "stream",
          "text": [
            "10 20\n",
            "덧셈: 30, 뺄셈: -10, 곱셈: 200, 나눗셈: 0.5\n"
          ],
          "name": "stdout"
        }
      ]
    },
    {
      "cell_type": "markdown",
      "metadata": {
        "id": "_yYBlT2sHH-9"
      },
      "source": [
        "# Q30"
      ]
    },
    {
      "cell_type": "code",
      "metadata": {
        "colab": {
          "base_uri": "https://localhost:8080/"
        },
        "id": "IZuIOV0RHH--",
        "outputId": "22278c54-3b83-44b7-e1c8-7d64647267b3"
      },
      "source": [
        "korean, english, mathematics, science = map(int, input().split())\n",
        "\n",
        "def get_min_max_score(*args):\n",
        "  return min(*args), max(*args)\n",
        "def get_average(**kwargs):\n",
        "  return sum(kwargs.values())/len(kwargs)\n",
        "\n",
        "min_score, max_score = get_min_max_score(korean, english, mathematics, science)\n",
        "average_score = get_average(korean=korean, english=english,\n",
        "                            mathematics=mathematics, science=science)\n",
        "print('낮은 점수: {0:.2f}, 높은 점수: {1:.2f}, 평균 점수: {2:.2f}'\n",
        "      .format(min_score, max_score, average_score))\n",
        " \n",
        "min_score, max_score = get_min_max_score(english, science)\n",
        "average_score = get_average(english=english, science=science)\n",
        "print('낮은 점수: {0:.2f}, 높은 점수: {1:.2f}, 평균 점수: {2:.2f}'\n",
        "      .format(min_score, max_score, average_score))"
      ],
      "execution_count": null,
      "outputs": [
        {
          "output_type": "stream",
          "text": [
            "76 82 89 84\n",
            "낮은 점수: 76.00, 높은 점수: 89.00, 평균 점수: 82.75\n",
            "낮은 점수: 82.00, 높은 점수: 84.00, 평균 점수: 83.00\n"
          ],
          "name": "stdout"
        }
      ]
    },
    {
      "cell_type": "markdown",
      "metadata": {
        "id": "c0dqP0p0HIGK"
      },
      "source": [
        "# Q31"
      ]
    },
    {
      "cell_type": "code",
      "metadata": {
        "colab": {
          "base_uri": "https://localhost:8080/"
        },
        "id": "lMQX9LuFHIGM",
        "outputId": "1cf5830a-d0d8-47df-d08f-3e569e342d49"
      },
      "source": [
        "def fib(n):\n",
        "  if n in (1, 2):\n",
        "    return 1\n",
        "  else:\n",
        "    return fib(n-1) + fib(n-2) \n",
        "\n",
        "n = int(input())\n",
        "print(fib(n))"
      ],
      "execution_count": null,
      "outputs": [
        {
          "output_type": "stream",
          "text": [
            "10\n",
            "55\n"
          ],
          "name": "stdout"
        }
      ]
    },
    {
      "cell_type": "code",
      "metadata": {
        "id": "Xt9zIL4P_DiH"
      },
      "source": [
        ""
      ],
      "execution_count": null,
      "outputs": []
    }
  ]
}