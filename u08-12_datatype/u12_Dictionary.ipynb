{
  "nbformat": 4,
  "nbformat_minor": 0,
  "metadata": {
    "colab": {
      "name": "u12_Dictionary.ipynb",
      "provenance": [],
      "collapsed_sections": []
    },
    "kernelspec": {
      "name": "python3",
      "display_name": "Python 3"
    },
    "language_info": {
      "name": "python"
    }
  },
  "cells": [
    {
      "cell_type": "markdown",
      "metadata": {
        "id": "_i6aEs0iRmom"
      },
      "source": [
        "# Unit 12. Dictionary"
      ]
    },
    {
      "cell_type": "code",
      "metadata": {
        "colab": {
          "base_uri": "https://localhost:8080/"
        },
        "id": "flbpT4EVRmCV",
        "outputId": "15aabb63-a013-4fec-ecf7-267aabd7803b"
      },
      "source": [
        "lux = [490, 334, 550, 18.72]\n",
        "lux"
      ],
      "execution_count": 1,
      "outputs": [
        {
          "output_type": "execute_result",
          "data": {
            "text/plain": [
              "[490, 334, 550, 18.72]"
            ]
          },
          "metadata": {
            "tags": []
          },
          "execution_count": 1
        }
      ]
    },
    {
      "cell_type": "code",
      "metadata": {
        "colab": {
          "base_uri": "https://localhost:8080/"
        },
        "id": "xd49U_g_SBdR",
        "outputId": "59ac9ccd-d6d1-4a02-d6ff-5d699e346e0f"
      },
      "source": [
        "lux = { # key alphabet sorting\n",
        "    'health': 490,    # 체력\n",
        "    'mana'  : 334,    # 마력\n",
        "    'melee' : 550,    # 사거리\n",
        "    'armor' : 18.72,  # 방어력\n",
        "}\n",
        "lux"
      ],
      "execution_count": 2,
      "outputs": [
        {
          "output_type": "execute_result",
          "data": {
            "text/plain": [
              "{'armor': 18.72, 'health': 490, 'mana': 334, 'melee': 550}"
            ]
          },
          "metadata": {
            "tags": []
          },
          "execution_count": 2
        }
      ]
    },
    {
      "cell_type": "markdown",
      "metadata": {
        "id": "yiVtiW97Sogg"
      },
      "source": [
        "## 12.1 Create Dictionary "
      ]
    },
    {
      "cell_type": "code",
      "metadata": {
        "colab": {
          "base_uri": "https://localhost:8080/"
        },
        "id": "KV5R0qTcSlLe",
        "outputId": "0882a5cb-eff6-48de-ae49-6d8e327a9f3b"
      },
      "source": [
        "lux = { # \n",
        "    'health': 490,    # 체력\n",
        "    'health': 800,    # 체력\n",
        "    'mana'  : 334,    # 마력\n",
        "    'melee' : 550,    # 사거리\n",
        "    'armor' : 18.72,  # 방어력\n",
        "}\n",
        "lux"
      ],
      "execution_count": 3,
      "outputs": [
        {
          "output_type": "execute_result",
          "data": {
            "text/plain": [
              "{'armor': 18.72, 'health': 800, 'mana': 334, 'melee': 550}"
            ]
          },
          "metadata": {
            "tags": []
          },
          "execution_count": 3
        }
      ]
    },
    {
      "cell_type": "code",
      "metadata": {
        "colab": {
          "base_uri": "https://localhost:8080/"
        },
        "id": "5wqmlRWpTshg",
        "outputId": "0ca98465-3588-43ce-a260-e5b28ca7c0a9"
      },
      "source": [
        "a = {}\n",
        "b = dict()\n",
        "a, b"
      ],
      "execution_count": 4,
      "outputs": [
        {
          "output_type": "execute_result",
          "data": {
            "text/plain": [
              "({}, {})"
            ]
          },
          "metadata": {
            "tags": []
          },
          "execution_count": 4
        }
      ]
    },
    {
      "cell_type": "code",
      "metadata": {
        "colab": {
          "base_uri": "https://localhost:8080/"
        },
        "id": "awap2oORUDNP",
        "outputId": "30133678-c430-439b-ffee-7384818520a9"
      },
      "source": [
        "a = set((1, 2, 3))\n",
        "a"
      ],
      "execution_count": 5,
      "outputs": [
        {
          "output_type": "execute_result",
          "data": {
            "text/plain": [
              "{1, 2, 3}"
            ]
          },
          "metadata": {
            "tags": []
          },
          "execution_count": 5
        }
      ]
    },
    {
      "cell_type": "code",
      "metadata": {
        "colab": {
          "base_uri": "https://localhost:8080/"
        },
        "id": "rOhm6_GRVFSY",
        "outputId": "525e2134-794a-4a13-b643-f25961d915c0"
      },
      "source": [
        "a = ['a', 'b', 'c', 'd']\n",
        "b = [1, 2, 3, 4]\n",
        "dict(zip(a, b))"
      ],
      "execution_count": 6,
      "outputs": [
        {
          "output_type": "execute_result",
          "data": {
            "text/plain": [
              "{'a': 1, 'b': 2, 'c': 3, 'd': 4}"
            ]
          },
          "metadata": {
            "tags": []
          },
          "execution_count": 6
        }
      ]
    },
    {
      "cell_type": "markdown",
      "metadata": {
        "id": "pk7hRwmUV3x5"
      },
      "source": [
        "## 12.2 딕셔너리의 키에 접근하고 값 할당하기(Accessing a dictionary's keys and assigning values)"
      ]
    },
    {
      "cell_type": "code",
      "metadata": {
        "colab": {
          "base_uri": "https://localhost:8080/"
        },
        "id": "WNMQXjvFVkYu",
        "outputId": "7e69e248-5956-4ac3-deb3-1c9791006919"
      },
      "source": [
        "lux"
      ],
      "execution_count": 7,
      "outputs": [
        {
          "output_type": "execute_result",
          "data": {
            "text/plain": [
              "{'armor': 18.72, 'health': 800, 'mana': 334, 'melee': 550}"
            ]
          },
          "metadata": {
            "tags": []
          },
          "execution_count": 7
        }
      ]
    },
    {
      "cell_type": "code",
      "metadata": {
        "colab": {
          "base_uri": "https://localhost:8080/"
        },
        "id": "nac0emGqWIez",
        "outputId": "21d63544-fd44-427e-e31c-033a7579d4ec"
      },
      "source": [
        "lux['mana'], lux['armor']"
      ],
      "execution_count": 9,
      "outputs": [
        {
          "output_type": "execute_result",
          "data": {
            "text/plain": [
              "(334, 18.72)"
            ]
          },
          "metadata": {
            "tags": []
          },
          "execution_count": 9
        }
      ]
    },
    {
      "cell_type": "code",
      "metadata": {
        "colab": {
          "base_uri": "https://localhost:8080/"
        },
        "id": "IRDJmoyLWJsh",
        "outputId": "51786ec1-4164-4935-8866-164bad3acb05"
      },
      "source": [
        "# If key value not exist in existing dictionary then add key value\n",
        "lux['new'] = 10\n",
        "lux"
      ],
      "execution_count": 10,
      "outputs": [
        {
          "output_type": "execute_result",
          "data": {
            "text/plain": [
              "{'armor': 18.72, 'health': 800, 'mana': 334, 'melee': 550, 'new': 10}"
            ]
          },
          "metadata": {
            "tags": []
          },
          "execution_count": 10
        }
      ]
    },
    {
      "cell_type": "code",
      "metadata": {
        "colab": {
          "base_uri": "https://localhost:8080/"
        },
        "id": "Hf_Jc3iYXL5R",
        "outputId": "96aa4b10-c9e2-4c74-8400-be32d1288cb9"
      },
      "source": [
        "# If key value exist in existing dictionary then change that key value\n",
        "lux['mana'] = 1000\n",
        "lux"
      ],
      "execution_count": 12,
      "outputs": [
        {
          "output_type": "execute_result",
          "data": {
            "text/plain": [
              "{'armor': 18.72, 'health': 800, 'mana': 1000, 'melee': 550, 'new': 10}"
            ]
          },
          "metadata": {
            "tags": []
          },
          "execution_count": 12
        }
      ]
    },
    {
      "cell_type": "code",
      "metadata": {
        "colab": {
          "base_uri": "https://localhost:8080/"
        },
        "id": "Ti4JfsgdXvYF",
        "outputId": "fb8a82d7-5b87-4534-9ec8-224fd415bc68"
      },
      "source": [
        "'mana' in lux"
      ],
      "execution_count": 13,
      "outputs": [
        {
          "output_type": "execute_result",
          "data": {
            "text/plain": [
              "True"
            ]
          },
          "metadata": {
            "tags": []
          },
          "execution_count": 13
        }
      ]
    },
    {
      "cell_type": "code",
      "metadata": {
        "colab": {
          "base_uri": "https://localhost:8080/"
        },
        "id": "MbJklWFEYIK7",
        "outputId": "67a020ce-c129-41a6-b53b-e0563283613c"
      },
      "source": [
        "# If mana exist in lux then existing value + 100 or assign value 50\n",
        "d = {}\n",
        "e = {'mana': 150}\n",
        "\n",
        "if 'mana' in e:\n",
        "  e['mana'] += 100\n",
        "else:\n",
        "  e['mana'] = 50\n",
        "e"
      ],
      "execution_count": 15,
      "outputs": [
        {
          "output_type": "execute_result",
          "data": {
            "text/plain": [
              "{'mana': 250}"
            ]
          },
          "metadata": {
            "tags": []
          },
          "execution_count": 15
        }
      ]
    },
    {
      "cell_type": "markdown",
      "metadata": {
        "id": "9sFO5lWcZOT9"
      },
      "source": [
        "### number of dictionary's key"
      ]
    },
    {
      "cell_type": "code",
      "metadata": {
        "colab": {
          "base_uri": "https://localhost:8080/"
        },
        "id": "hCZ7bQPWYz0N",
        "outputId": "371cc6e3-769d-4713-bd46-437d5ec12cb6"
      },
      "source": [
        "lux"
      ],
      "execution_count": 20,
      "outputs": [
        {
          "output_type": "execute_result",
          "data": {
            "text/plain": [
              "{'armor': 18.72, 'health': 800, 'mana': 1000, 'melee': 550, 'new': 10}"
            ]
          },
          "metadata": {
            "tags": []
          },
          "execution_count": 20
        }
      ]
    },
    {
      "cell_type": "code",
      "metadata": {
        "colab": {
          "base_uri": "https://localhost:8080/"
        },
        "id": "gWY29ZXKY57Y",
        "outputId": "5aa0f805-d44e-4658-edca-81b05e564b98"
      },
      "source": [
        "len(lux)"
      ],
      "execution_count": 21,
      "outputs": [
        {
          "output_type": "execute_result",
          "data": {
            "text/plain": [
              "5"
            ]
          },
          "metadata": {
            "tags": []
          },
          "execution_count": 21
        }
      ]
    },
    {
      "cell_type": "markdown",
      "metadata": {
        "id": "r5Wmb7m6Z4Yh"
      },
      "source": [
        "### value type"
      ]
    },
    {
      "cell_type": "code",
      "metadata": {
        "colab": {
          "base_uri": "https://localhost:8080/"
        },
        "id": "wAoHpJ9rZYht",
        "outputId": "6d9d0e07-4d69-4bfd-ae69-2cd0c60dede2"
      },
      "source": [
        "type(lux)"
      ],
      "execution_count": 22,
      "outputs": [
        {
          "output_type": "execute_result",
          "data": {
            "text/plain": [
              "dict"
            ]
          },
          "metadata": {
            "tags": []
          },
          "execution_count": 22
        }
      ]
    },
    {
      "cell_type": "code",
      "metadata": {
        "colab": {
          "base_uri": "https://localhost:8080/"
        },
        "id": "m8aim0lSZ6qN",
        "outputId": "53f70caa-1443-4aac-c86c-8d6378494bee"
      },
      "source": [
        "type(lux['armor'])"
      ],
      "execution_count": 23,
      "outputs": [
        {
          "output_type": "execute_result",
          "data": {
            "text/plain": [
              "float"
            ]
          },
          "metadata": {
            "tags": []
          },
          "execution_count": 23
        }
      ]
    },
    {
      "cell_type": "code",
      "metadata": {
        "colab": {
          "base_uri": "https://localhost:8080/"
        },
        "id": "STiCj5hTZ_VO",
        "outputId": "ef973217-0133-46cb-c6b8-e969b082dda0"
      },
      "source": [
        "lux['mana'], lux['armor']"
      ],
      "execution_count": 24,
      "outputs": [
        {
          "output_type": "execute_result",
          "data": {
            "text/plain": [
              "(1000, 18.72)"
            ]
          },
          "metadata": {
            "tags": []
          },
          "execution_count": 24
        }
      ]
    },
    {
      "cell_type": "code",
      "metadata": {
        "colab": {
          "base_uri": "https://localhost:8080/"
        },
        "id": "cW4jqnwvajdD",
        "outputId": "8c6d8a9e-3113-44f4-90b4-ac5a11583ebc"
      },
      "source": [
        "lux.keys()"
      ],
      "execution_count": 25,
      "outputs": [
        {
          "output_type": "execute_result",
          "data": {
            "text/plain": [
              "dict_keys(['health', 'mana', 'melee', 'armor', 'new'])"
            ]
          },
          "metadata": {
            "tags": []
          },
          "execution_count": 25
        }
      ]
    },
    {
      "cell_type": "code",
      "metadata": {
        "colab": {
          "base_uri": "https://localhost:8080/"
        },
        "id": "JZRoZyq-alab",
        "outputId": "64bfddf3-1cb4-436d-cbed-6c739825bf2f"
      },
      "source": [
        "for key in lux.keys():\n",
        "  print(f'{key} : {lux[key]}')"
      ],
      "execution_count": 29,
      "outputs": [
        {
          "output_type": "stream",
          "text": [
            "health : 800\n",
            "mana : 1000\n",
            "melee : 550\n",
            "armor : 18.72\n",
            "new : 10\n"
          ],
          "name": "stdout"
        }
      ]
    },
    {
      "cell_type": "code",
      "metadata": {
        "colab": {
          "base_uri": "https://localhost:8080/"
        },
        "id": "hpCG4ShKaudH",
        "outputId": "6d282e58-ef08-49a4-d21c-de717862df6e"
      },
      "source": [
        "for key, value in lux.items():\n",
        "  print(f'{key} : {value}')"
      ],
      "execution_count": 30,
      "outputs": [
        {
          "output_type": "stream",
          "text": [
            "health : 800\n",
            "mana : 1000\n",
            "melee : 550\n",
            "armor : 18.72\n",
            "new : 10\n"
          ],
          "name": "stdout"
        }
      ]
    },
    {
      "cell_type": "markdown",
      "metadata": {
        "id": "TEg503lXfR11"
      },
      "source": [
        "### 질문"
      ]
    },
    {
      "cell_type": "code",
      "metadata": {
        "colab": {
          "base_uri": "https://localhost:8080/"
        },
        "id": "2_e3wG8sdTMr",
        "outputId": "80325f5b-42b4-44d0-90db-b1466213f462"
      },
      "source": [
        "# If mana exist in lux then existing value + 100 or assign value 50\n",
        "d = {'mana': 120}\n",
        "e = {}\n",
        "\n",
        "for item in [d, e]:\n",
        "  if 'mana' in item:\n",
        "    item['mana'] += 100\n",
        "  else:\n",
        "    item['mana'] = 50\n",
        "\n",
        "d, e"
      ],
      "execution_count": 41,
      "outputs": [
        {
          "output_type": "execute_result",
          "data": {
            "text/plain": [
              "({'mana': 220}, {'mana': 50})"
            ]
          },
          "metadata": {
            "tags": []
          },
          "execution_count": 41
        }
      ]
    },
    {
      "cell_type": "code",
      "metadata": {
        "id": "7P_qtX59froi"
      },
      "source": [
        ""
      ],
      "execution_count": null,
      "outputs": []
    }
  ]
}